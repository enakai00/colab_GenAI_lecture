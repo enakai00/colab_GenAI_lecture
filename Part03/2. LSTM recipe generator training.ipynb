{
  "nbformat": 4,
  "nbformat_minor": 0,
  "metadata": {
    "colab": {
      "provenance": [],
      "gpuType": "T4"
    },
    "kernelspec": {
      "name": "python3",
      "display_name": "Python 3"
    },
    "language_info": {
      "name": "python"
    },
    "accelerator": "GPU"
  },
  "cells": [
    {
      "cell_type": "markdown",
      "source": [
        "# LSTM recipe generator training\n",
        "\n",
        "Note: This notebook is designed to run with GPU runtime."
      ],
      "metadata": {
        "id": "5YWXUL0xaIZl"
      }
    },
    {
      "cell_type": "markdown",
      "source": [
        "Install Huggingface libraries to use the pretrained tokenizer and the recipe dataset.\n",
        "\n",
        "**You can igore the error message like `ERROR: pip's dependency resolver does not currently take into account...`.**"
      ],
      "metadata": {
        "id": "DKjgG-dYaSCk"
      }
    },
    {
      "cell_type": "code",
      "execution_count": 1,
      "metadata": {
        "colab": {
          "base_uri": "https://localhost:8080/"
        },
        "id": "qR4fKhETJ_M7",
        "outputId": "7ebe9434-36ce-4e74-f30f-e418b85148d0"
      },
      "outputs": [
        {
          "output_type": "stream",
          "name": "stdout",
          "text": [
            "  Installing build dependencies ... \u001b[?25l\u001b[?25hdone\n",
            "  Getting requirements to build wheel ... \u001b[?25l\u001b[?25hdone\n",
            "  Preparing metadata (pyproject.toml) ... \u001b[?25l\u001b[?25hdone\n",
            "\u001b[2K   \u001b[90m━━━━━━━━━━━━━━━━━━━━━━━━━━━━━━━━━━━━━━━━\u001b[0m \u001b[32m491.5/491.5 kB\u001b[0m \u001b[31m30.0 MB/s\u001b[0m eta \u001b[36m0:00:00\u001b[0m\n",
            "\u001b[2K   \u001b[90m━━━━━━━━━━━━━━━━━━━━━━━━━━━━━━━━━━━━━━━━\u001b[0m \u001b[32m193.6/193.6 kB\u001b[0m \u001b[31m20.4 MB/s\u001b[0m eta \u001b[36m0:00:00\u001b[0m\n",
            "\u001b[?25h  Building wheel for transformers (pyproject.toml) ... \u001b[?25l\u001b[?25hdone\n",
            "\u001b[31mERROR: pip's dependency resolver does not currently take into account all the packages that are installed. This behaviour is the source of the following dependency conflicts.\n",
            "torch 2.6.0+cu124 requires nvidia-cublas-cu12==12.4.5.8; platform_system == \"Linux\" and platform_machine == \"x86_64\", but you have nvidia-cublas-cu12 12.5.3.2 which is incompatible.\n",
            "torch 2.6.0+cu124 requires nvidia-cuda-cupti-cu12==12.4.127; platform_system == \"Linux\" and platform_machine == \"x86_64\", but you have nvidia-cuda-cupti-cu12 12.5.82 which is incompatible.\n",
            "torch 2.6.0+cu124 requires nvidia-cuda-nvrtc-cu12==12.4.127; platform_system == \"Linux\" and platform_machine == \"x86_64\", but you have nvidia-cuda-nvrtc-cu12 12.5.82 which is incompatible.\n",
            "torch 2.6.0+cu124 requires nvidia-cuda-runtime-cu12==12.4.127; platform_system == \"Linux\" and platform_machine == \"x86_64\", but you have nvidia-cuda-runtime-cu12 12.5.82 which is incompatible.\n",
            "torch 2.6.0+cu124 requires nvidia-cudnn-cu12==9.1.0.70; platform_system == \"Linux\" and platform_machine == \"x86_64\", but you have nvidia-cudnn-cu12 9.3.0.75 which is incompatible.\n",
            "torch 2.6.0+cu124 requires nvidia-cufft-cu12==11.2.1.3; platform_system == \"Linux\" and platform_machine == \"x86_64\", but you have nvidia-cufft-cu12 11.2.3.61 which is incompatible.\n",
            "torch 2.6.0+cu124 requires nvidia-curand-cu12==10.3.5.147; platform_system == \"Linux\" and platform_machine == \"x86_64\", but you have nvidia-curand-cu12 10.3.6.82 which is incompatible.\n",
            "torch 2.6.0+cu124 requires nvidia-cusolver-cu12==11.6.1.9; platform_system == \"Linux\" and platform_machine == \"x86_64\", but you have nvidia-cusolver-cu12 11.6.3.83 which is incompatible.\n",
            "torch 2.6.0+cu124 requires nvidia-cusparse-cu12==12.3.1.170; platform_system == \"Linux\" and platform_machine == \"x86_64\", but you have nvidia-cusparse-cu12 12.5.1.3 which is incompatible.\n",
            "torch 2.6.0+cu124 requires nvidia-nvjitlink-cu12==12.4.127; platform_system == \"Linux\" and platform_machine == \"x86_64\", but you have nvidia-nvjitlink-cu12 12.5.82 which is incompatible.\n",
            "gcsfs 2025.3.2 requires fsspec==2025.3.2, but you have fsspec 2025.3.0 which is incompatible.\u001b[0m\u001b[31m\n",
            "\u001b[0m"
          ]
        }
      ],
      "source": [
        "pip install -qU git+https://github.com/huggingface/transformers.git datasets"
      ]
    },
    {
      "cell_type": "markdown",
      "source": [
        "Import modules and set random seeds."
      ],
      "metadata": {
        "id": "3YzNAx8aaYrR"
      }
    },
    {
      "cell_type": "code",
      "source": [
        "import os, random\n",
        "import numpy as np\n",
        "from pandas import DataFrame\n",
        "import matplotlib.pyplot as plt\n",
        "from sklearn.model_selection import train_test_split\n",
        "import tensorflow as tf\n",
        "from tensorflow.keras import layers, models\n",
        "\n",
        "random.seed(20230629)\n",
        "np.random.seed(20230629)\n",
        "tf.random.set_seed(20230629)\n",
        "\n",
        "plt.rcParams.update({'font.size': 10})"
      ],
      "metadata": {
        "id": "nzi1HcNOKNQA"
      },
      "execution_count": 2,
      "outputs": []
    },
    {
      "cell_type": "markdown",
      "source": [
        "Download the pretrained tokenizer and check the vacabulary size."
      ],
      "metadata": {
        "id": "a42W7rEmabQ-"
      }
    },
    {
      "cell_type": "code",
      "source": [
        "from transformers import AutoTokenizer, AutoConfig\n",
        "model_ckpt = 'bert-base-uncased'\n",
        "tokenizer = AutoTokenizer.from_pretrained(model_ckpt)\n",
        "VOCAB_SIZE = AutoConfig.from_pretrained(model_ckpt).vocab_size\n",
        "\n",
        "print(f'Vocabulary size: {VOCAB_SIZE}')"
      ],
      "metadata": {
        "colab": {
          "base_uri": "https://localhost:8080/"
        },
        "id": "3T7t29m5SE7o",
        "outputId": "dc937909-72de-4fb3-bd7f-32b15f173ba0"
      },
      "execution_count": 4,
      "outputs": [
        {
          "output_type": "stream",
          "name": "stdout",
          "text": [
            "Vocabulary size: 30522\n"
          ]
        }
      ]
    },
    {
      "cell_type": "markdown",
      "source": [
        "Download the recipe dataset and extract directions texts."
      ],
      "metadata": {
        "id": "ojgjC1Aiafcw"
      }
    },
    {
      "cell_type": "code",
      "source": [
        "from datasets import load_dataset\n",
        "recipe = load_dataset('Shengtao/recipe')\n",
        "\n",
        "def join_title_and_directions(title_directions):\n",
        "    title, directions = title_directions\n",
        "    return f'Recipe for {title}: {directions}'\n",
        "\n",
        "recipe_texts = zip(recipe['train']['title'], recipe['train']['directions'])\n",
        "recipe_texts = [*map(join_title_and_directions, recipe_texts)]\n",
        "recipe_texts = recipe_texts[::4] # Select 25% of the entire training set."
      ],
      "metadata": {
        "id": "EwbNr5etYdBU"
      },
      "execution_count": 6,
      "outputs": []
    },
    {
      "cell_type": "code",
      "source": [
        "recipe_texts[0]"
      ],
      "metadata": {
        "colab": {
          "base_uri": "https://localhost:8080/",
          "height": 128
        },
        "id": "K-DC1rGxxOwB",
        "outputId": "a29088d3-b831-4092-a3c3-35d4b3f57594"
      },
      "execution_count": null,
      "outputs": [
        {
          "output_type": "execute_result",
          "data": {
            "text/plain": [
              "'Recipe for Simple Macaroni and Cheese: Bring a large pot of lightly salted water to a boil. Cook elbow macaroni in the boiling water, stirring occasionally until cooked through but firm to the bite, 8 minutes. Drain. Melt butter in a saucepan over medium heat; stir in flour, salt, and pepper until smooth, about 5 minutes. Slowly pour milk into butter-flour mixture while continuously stirring until mixture is smooth and bubbling, about 5 minutes. Add Cheddar cheese to milk mixture and stir until cheese is melted, 2 to 4 minutes. Fold macaroni into cheese sauce until coated.'"
            ],
            "application/vnd.google.colaboratory.intrinsic+json": {
              "type": "string"
            }
          },
          "metadata": {},
          "execution_count": 5
        }
      ]
    },
    {
      "cell_type": "markdown",
      "source": [
        "Check the distribuion of the token length."
      ],
      "metadata": {
        "id": "nM-gQoxia8mL"
      }
    },
    {
      "cell_type": "code",
      "source": [
        "fig = plt.figure(figsize=(7, 3))\n",
        "subplot = fig.add_subplot(1,1,1)\n",
        "subplot.set_title('Word count')\n",
        "\n",
        "_ = subplot.hist([*map(lambda x: len(x.split(' ')), recipe_texts)], bins=50)"
      ],
      "metadata": {
        "colab": {
          "base_uri": "https://localhost:8080/",
          "height": 314
        },
        "id": "cur6xWcr7cZi",
        "outputId": "13a37a35-5952-4a9f-f0d0-245cf1d634b8"
      },
      "execution_count": null,
      "outputs": [
        {
          "output_type": "display_data",
          "data": {
            "text/plain": [
              "<Figure size 700x300 with 1 Axes>"
            ],
            "image/png": "[encoded data removed]"
          },
          "metadata": {}
        }
      ]
    },
    {
      "cell_type": "markdown",
      "source": [
        "Create the training and test datasets, truncating long texts into 128 words."
      ],
      "metadata": {
        "id": "g6owsu6_bDt5"
      }
    },
    {
      "cell_type": "code",
      "source": [
        "MAX_LEN = 128\n",
        "train_set, test_set = train_test_split(recipe_texts, test_size=0.1)\n",
        "\n",
        "train_set = tokenizer(train_set, max_length=MAX_LEN,\n",
        "                      padding='max_length', truncation=True)\n",
        "train_text = np.array(train_set['input_ids'])[:, :-1]\n",
        "train_label = np.array(train_set['input_ids'])[:, 1:]\n",
        "\n",
        "test_set = tokenizer(test_set, max_length=MAX_LEN,\n",
        "                     padding='max_length', truncation=True)\n",
        "test_text = np.array(test_set['input_ids'])[:, :-1]\n",
        "test_label = np.array(test_set['input_ids'])[:, 1:]"
      ],
      "metadata": {
        "id": "u09KlG_OSJnB"
      },
      "execution_count": null,
      "outputs": []
    },
    {
      "cell_type": "markdown",
      "source": [
        "Define the LSTM model."
      ],
      "metadata": {
        "id": "AFwAd5oSbdQT"
      }
    },
    {
      "cell_type": "code",
      "source": [
        "lstm_model = models.Sequential(name='LSTM_next_word_predictor')\n",
        "lstm_model.add(layers.Input(shape=(None,), name='input_ids'))\n",
        "lstm_model.add(layers.Embedding(VOCAB_SIZE, 512, name='text_embedding'))\n",
        "lstm_model.add(layers.LSTM(512, return_sequences=True, name='LSTM'))\n",
        "lstm_model.add(layers.Dense(VOCAB_SIZE, activation='softmax', name='softmax'))\n",
        "\n",
        "lstm_model.summary()"
      ],
      "metadata": {
        "colab": {
          "base_uri": "https://localhost:8080/",
          "height": 225
        },
        "id": "DXemlX4qTtUX",
        "outputId": "b0d9ce6a-589b-414d-a583-cf0b70c65ff9"
      },
      "execution_count": null,
      "outputs": [
        {
          "output_type": "display_data",
          "data": {
            "text/plain": [
              "\u001b[1mModel: \"LSTM_next_word_predictor\"\u001b[0m\n"
            ],
            "text/html": [
              "<pre style=\"white-space:pre;overflow-x:auto;line-height:normal;font-family:Menlo,'DejaVu Sans Mono',consolas,'Courier New',monospace\"><span style=\"font-weight: bold\">Model: \"LSTM_next_word_predictor\"</span>\n",
              "</pre>\n"
            ]
          },
          "metadata": {}
        },
        {
          "output_type": "display_data",
          "data": {
            "text/plain": [
              "┏━━━━━━━━━━━━━━━━━━━━━━━━━━━━━━━━━━━━━━┳━━━━━━━━━━━━━━━━━━━━━━━━━━━━━┳━━━━━━━━━━━━━━━━━┓\n",
              "┃\u001b[1m \u001b[0m\u001b[1mLayer (type)                        \u001b[0m\u001b[1m \u001b[0m┃\u001b[1m \u001b[0m\u001b[1mOutput Shape               \u001b[0m\u001b[1m \u001b[0m┃\u001b[1m \u001b[0m\u001b[1m        Param #\u001b[0m\u001b[1m \u001b[0m┃\n",
              "┡━━━━━━━━━━━━━━━━━━━━━━━━━━━━━━━━━━━━━━╇━━━━━━━━━━━━━━━━━━━━━━━━━━━━━╇━━━━━━━━━━━━━━━━━┩\n",
              "│ text_embedding (\u001b[38;5;33mEmbedding\u001b[0m)           │ (\u001b[38;5;45mNone\u001b[0m, \u001b[38;5;45mNone\u001b[0m, \u001b[38;5;34m512\u001b[0m)           │      \u001b[38;5;34m15,627,264\u001b[0m │\n",
              "├──────────────────────────────────────┼─────────────────────────────┼─────────────────┤\n",
              "│ LSTM (\u001b[38;5;33mLSTM\u001b[0m)                          │ (\u001b[38;5;45mNone\u001b[0m, \u001b[38;5;45mNone\u001b[0m, \u001b[38;5;34m512\u001b[0m)           │       \u001b[38;5;34m2,099,200\u001b[0m │\n",
              "├──────────────────────────────────────┼─────────────────────────────┼─────────────────┤\n",
              "│ softmax (\u001b[38;5;33mDense\u001b[0m)                      │ (\u001b[38;5;45mNone\u001b[0m, \u001b[38;5;45mNone\u001b[0m, \u001b[38;5;34m30522\u001b[0m)         │      \u001b[38;5;34m15,657,786\u001b[0m │\n",
              "└──────────────────────────────────────┴─────────────────────────────┴─────────────────┘\n"
            ],
            "text/html": [
              "<pre style=\"white-space:pre;overflow-x:auto;line-height:normal;font-family:Menlo,'DejaVu Sans Mono',consolas,'Courier New',monospace\">┏━━━━━━━━━━━━━━━━━━━━━━━━━━━━━━━━━━━━━━┳━━━━━━━━━━━━━━━━━━━━━━━━━━━━━┳━━━━━━━━━━━━━━━━━┓\n",
              "┃<span style=\"font-weight: bold\"> Layer (type)                         </span>┃<span style=\"font-weight: bold\"> Output Shape                </span>┃<span style=\"font-weight: bold\">         Param # </span>┃\n",
              "┡━━━━━━━━━━━━━━━━━━━━━━━━━━━━━━━━━━━━━━╇━━━━━━━━━━━━━━━━━━━━━━━━━━━━━╇━━━━━━━━━━━━━━━━━┩\n",
              "│ text_embedding (<span style=\"color: #0087ff; text-decoration-color: #0087ff\">Embedding</span>)           │ (<span style=\"color: #00d7ff; text-decoration-color: #00d7ff\">None</span>, <span style=\"color: #00d7ff; text-decoration-color: #00d7ff\">None</span>, <span style=\"color: #00af00; text-decoration-color: #00af00\">512</span>)           │      <span style=\"color: #00af00; text-decoration-color: #00af00\">15,627,264</span> │\n",
              "├──────────────────────────────────────┼─────────────────────────────┼─────────────────┤\n",
              "│ LSTM (<span style=\"color: #0087ff; text-decoration-color: #0087ff\">LSTM</span>)                          │ (<span style=\"color: #00d7ff; text-decoration-color: #00d7ff\">None</span>, <span style=\"color: #00d7ff; text-decoration-color: #00d7ff\">None</span>, <span style=\"color: #00af00; text-decoration-color: #00af00\">512</span>)           │       <span style=\"color: #00af00; text-decoration-color: #00af00\">2,099,200</span> │\n",
              "├──────────────────────────────────────┼─────────────────────────────┼─────────────────┤\n",
              "│ softmax (<span style=\"color: #0087ff; text-decoration-color: #0087ff\">Dense</span>)                      │ (<span style=\"color: #00d7ff; text-decoration-color: #00d7ff\">None</span>, <span style=\"color: #00d7ff; text-decoration-color: #00d7ff\">None</span>, <span style=\"color: #00af00; text-decoration-color: #00af00\">30522</span>)         │      <span style=\"color: #00af00; text-decoration-color: #00af00\">15,657,786</span> │\n",
              "└──────────────────────────────────────┴─────────────────────────────┴─────────────────┘\n",
              "</pre>\n"
            ]
          },
          "metadata": {}
        },
        {
          "output_type": "display_data",
          "data": {
            "text/plain": [
              "\u001b[1m Total params: \u001b[0m\u001b[38;5;34m33,384,250\u001b[0m (127.35 MB)\n"
            ],
            "text/html": [
              "<pre style=\"white-space:pre;overflow-x:auto;line-height:normal;font-family:Menlo,'DejaVu Sans Mono',consolas,'Courier New',monospace\"><span style=\"font-weight: bold\"> Total params: </span><span style=\"color: #00af00; text-decoration-color: #00af00\">33,384,250</span> (127.35 MB)\n",
              "</pre>\n"
            ]
          },
          "metadata": {}
        },
        {
          "output_type": "display_data",
          "data": {
            "text/plain": [
              "\u001b[1m Trainable params: \u001b[0m\u001b[38;5;34m33,384,250\u001b[0m (127.35 MB)\n"
            ],
            "text/html": [
              "<pre style=\"white-space:pre;overflow-x:auto;line-height:normal;font-family:Menlo,'DejaVu Sans Mono',consolas,'Courier New',monospace\"><span style=\"font-weight: bold\"> Trainable params: </span><span style=\"color: #00af00; text-decoration-color: #00af00\">33,384,250</span> (127.35 MB)\n",
              "</pre>\n"
            ]
          },
          "metadata": {}
        },
        {
          "output_type": "display_data",
          "data": {
            "text/plain": [
              "\u001b[1m Non-trainable params: \u001b[0m\u001b[38;5;34m0\u001b[0m (0.00 B)\n"
            ],
            "text/html": [
              "<pre style=\"white-space:pre;overflow-x:auto;line-height:normal;font-family:Menlo,'DejaVu Sans Mono',consolas,'Courier New',monospace\"><span style=\"font-weight: bold\"> Non-trainable params: </span><span style=\"color: #00af00; text-decoration-color: #00af00\">0</span> (0.00 B)\n",
              "</pre>\n"
            ]
          },
          "metadata": {}
        }
      ]
    },
    {
      "cell_type": "markdown",
      "source": [
        "Compile the model using the Adam optimizer, and the sparse categorical crossentroy as a loss function."
      ],
      "metadata": {
        "id": "XnWcZH4Pbjvp"
      }
    },
    {
      "cell_type": "code",
      "source": [
        "lstm_model.compile(optimizer='adam',\n",
        "                   loss='sparse_categorical_crossentropy',\n",
        "                   metrics=['acc'])"
      ],
      "metadata": {
        "id": "uyb7nVgvT8ud"
      },
      "execution_count": null,
      "outputs": []
    },
    {
      "cell_type": "markdown",
      "source": [
        "Train the model."
      ],
      "metadata": {
        "id": "wCrG5Vndbpkx"
      }
    },
    {
      "cell_type": "code",
      "source": [
        "%%time\n",
        "history = lstm_model.fit(train_text, train_label,\n",
        "                         validation_data=(test_text, test_label),\n",
        "                         batch_size=8, epochs=10)"
      ],
      "metadata": {
        "colab": {
          "base_uri": "https://localhost:8080/"
        },
        "id": "2JrNNXp6UFxA",
        "outputId": "c7ad6cec-c8e8-4e99-93c9-1bda3c6cf4a7"
      },
      "execution_count": null,
      "outputs": [
        {
          "output_type": "stream",
          "name": "stdout",
          "text": [
            "Epoch 1/10\n",
            "\u001b[1m921/921\u001b[0m \u001b[32m━━━━━━━━━━━━━━━━━━━━\u001b[0m\u001b[37m\u001b[0m \u001b[1m101s\u001b[0m 106ms/step - acc: 0.2398 - loss: 4.9316 - val_acc: 0.5058 - val_loss: 2.6034\n",
            "Epoch 2/10\n",
            "\u001b[1m921/921\u001b[0m \u001b[32m━━━━━━━━━━━━━━━━━━━━\u001b[0m\u001b[37m\u001b[0m \u001b[1m141s\u001b[0m 107ms/step - acc: 0.5280 - loss: 2.4392 - val_acc: 0.5611 - val_loss: 2.1840\n",
            "Epoch 3/10\n",
            "\u001b[1m921/921\u001b[0m \u001b[32m━━━━━━━━━━━━━━━━━━━━\u001b[0m\u001b[37m\u001b[0m \u001b[1m143s\u001b[0m 108ms/step - acc: 0.5734 - loss: 2.0739 - val_acc: 0.5811 - val_loss: 2.0352\n",
            "Epoch 4/10\n",
            "\u001b[1m921/921\u001b[0m \u001b[32m━━━━━━━━━━━━━━━━━━━━\u001b[0m\u001b[37m\u001b[0m \u001b[1m99s\u001b[0m 107ms/step - acc: 0.5948 - loss: 1.9006 - val_acc: 0.5924 - val_loss: 1.9567\n",
            "Epoch 5/10\n",
            "\u001b[1m921/921\u001b[0m \u001b[32m━━━━━━━━━━━━━━━━━━━━\u001b[0m\u001b[37m\u001b[0m \u001b[1m143s\u001b[0m 108ms/step - acc: 0.6091 - loss: 1.7844 - val_acc: 0.5982 - val_loss: 1.9149\n",
            "Epoch 6/10\n",
            "\u001b[1m921/921\u001b[0m \u001b[32m━━━━━━━━━━━━━━━━━━━━\u001b[0m\u001b[37m\u001b[0m \u001b[1m141s\u001b[0m 107ms/step - acc: 0.6204 - loss: 1.6950 - val_acc: 0.6024 - val_loss: 1.8911\n",
            "Epoch 7/10\n",
            "\u001b[1m921/921\u001b[0m \u001b[32m━━━━━━━━━━━━━━━━━━━━\u001b[0m\u001b[37m\u001b[0m \u001b[1m142s\u001b[0m 107ms/step - acc: 0.6306 - loss: 1.6204 - val_acc: 0.6049 - val_loss: 1.8791\n",
            "Epoch 8/10\n",
            "\u001b[1m921/921\u001b[0m \u001b[32m━━━━━━━━━━━━━━━━━━━━\u001b[0m\u001b[37m\u001b[0m \u001b[1m142s\u001b[0m 107ms/step - acc: 0.6397 - loss: 1.5565 - val_acc: 0.6060 - val_loss: 1.8740\n",
            "Epoch 9/10\n",
            "\u001b[1m921/921\u001b[0m \u001b[32m━━━━━━━━━━━━━━━━━━━━\u001b[0m\u001b[37m\u001b[0m \u001b[1m142s\u001b[0m 107ms/step - acc: 0.6487 - loss: 1.4994 - val_acc: 0.6063 - val_loss: 1.8753\n",
            "Epoch 10/10\n",
            "\u001b[1m921/921\u001b[0m \u001b[32m━━━━━━━━━━━━━━━━━━━━\u001b[0m\u001b[37m\u001b[0m \u001b[1m142s\u001b[0m 107ms/step - acc: 0.6572 - loss: 1.4482 - val_acc: 0.6061 - val_loss: 1.8809\n",
            "CPU times: user 8min 31s, sys: 25 s, total: 8min 57s\n",
            "Wall time: 22min 58s\n"
          ]
        }
      ]
    },
    {
      "cell_type": "markdown",
      "source": [
        "Mount google drive and save the trained model."
      ],
      "metadata": {
        "id": "vHz06m2wb1p0"
      }
    },
    {
      "cell_type": "code",
      "source": [
        "from google.colab import drive\n",
        "drive.mount('/content/gdrive')\n",
        "\n",
        "model_file = '/content/gdrive/My Drive/LSTM_recipe_generator.keras'\n",
        "lstm_model.save(model_file)\n",
        "!ls -lh '{model_file}'"
      ],
      "metadata": {
        "id": "8b5efdW1Ugi-",
        "colab": {
          "base_uri": "https://localhost:8080/"
        },
        "outputId": "b1ebb85b-95e6-4f21-dd9b-4eb94bd1817c"
      },
      "execution_count": null,
      "outputs": [
        {
          "output_type": "stream",
          "name": "stdout",
          "text": [
            "Mounted at /content/gdrive\n",
            "-rw------- 1 root root 383M Jan 29 07:55 '/content/gdrive/My Drive/LSTM_recipe_generator.keras'\n"
          ]
        }
      ]
    }
  ]
}
