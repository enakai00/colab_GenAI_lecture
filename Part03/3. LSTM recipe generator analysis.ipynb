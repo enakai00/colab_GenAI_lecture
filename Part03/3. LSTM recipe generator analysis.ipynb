{
  "nbformat": 4,
  "nbformat_minor": 0,
  "metadata": {
    "colab": {
      "provenance": [],
      "gpuType": "T4"
    },
    "kernelspec": {
      "name": "python3",
      "display_name": "Python 3"
    },
    "language_info": {
      "name": "python"
    },
    "accelerator": "GPU"
  },
  "cells": [
    {
      "cell_type": "markdown",
      "source": [
        "# LSTM recipe generator training\n",
        "\n",
        "Note: This notebook is desinged to run with GPU runtime."
      ],
      "metadata": {
        "id": "QjOfqv963k7P"
      }
    },
    {
      "cell_type": "markdown",
      "source": [
        "Install Huggingface libraries to use the pretrained tokenizer."
      ],
      "metadata": {
        "id": "KrITPxe53o55"
      }
    },
    {
      "cell_type": "code",
      "execution_count": 1,
      "metadata": {
        "colab": {
          "base_uri": "https://localhost:8080/"
        },
        "id": "qR4fKhETJ_M7",
        "outputId": "7a590216-b965-4ec3-c50e-19fc706aaf09"
      },
      "outputs": [
        {
          "output_type": "stream",
          "name": "stdout",
          "text": [
            "  Installing build dependencies ... \u001b[?25l\u001b[?25hdone\n",
            "  Getting requirements to build wheel ... \u001b[?25l\u001b[?25hdone\n",
            "  Preparing metadata (pyproject.toml) ... \u001b[?25l\u001b[?25hdone\n"
          ]
        }
      ],
      "source": [
        "pip install -q git+https://github.com/huggingface/transformers.git datasets"
      ]
    },
    {
      "cell_type": "markdown",
      "source": [
        "Install Google Translate library to convert generated texts to other languages."
      ],
      "metadata": {
        "id": "q6-l1bak3wH6"
      }
    },
    {
      "cell_type": "code",
      "source": [
        "pip install -q googletrans==4.0.0-rc1"
      ],
      "metadata": {
        "id": "wEk9FWEyeIwb"
      },
      "execution_count": 2,
      "outputs": []
    },
    {
      "cell_type": "markdown",
      "source": [
        "Import modules and set random seeds."
      ],
      "metadata": {
        "id": "AAKxmXTn4Gt7"
      }
    },
    {
      "cell_type": "code",
      "source": [
        "import os, random\n",
        "os.environ['PYTHONHASHSEED'] = str(20230629)\n",
        "random.seed(20230629)\n",
        "\n",
        "import matplotlib.pyplot as plt\n",
        "import numpy as np\n",
        "from pandas import DataFrame\n",
        "\n",
        "import tensorflow as tf\n",
        "from tensorflow.keras import layers, models\n",
        "from googletrans import Translator\n",
        "\n",
        "np.random.seed(20230629)\n",
        "tf.random.set_seed(20230629)\n",
        "\n",
        "plt.rcParams.update({'font.size': 10})"
      ],
      "metadata": {
        "id": "nzi1HcNOKNQA"
      },
      "execution_count": 3,
      "outputs": []
    },
    {
      "cell_type": "markdown",
      "source": [
        "Download the pretrained tokenizer and check the vacabulary size."
      ],
      "metadata": {
        "id": "nEJ4U33q37Z4"
      }
    },
    {
      "cell_type": "code",
      "source": [
        "from transformers import AutoTokenizer, AutoConfig\n",
        "model_ckpt = 'bert-base-uncased'\n",
        "tokenizer = AutoTokenizer.from_pretrained(model_ckpt)\n",
        "VOCAB_SIZE = AutoConfig.from_pretrained(model_ckpt).vocab_size\n",
        "\n",
        "print('Vocabulary size: {}'.format(VOCAB_SIZE))"
      ],
      "metadata": {
        "colab": {
          "base_uri": "https://localhost:8080/"
        },
        "id": "3T7t29m5SE7o",
        "outputId": "3e06e725-4cd1-4209-db44-8986c0d2bacb"
      },
      "execution_count": 4,
      "outputs": [
        {
          "output_type": "stream",
          "name": "stdout",
          "text": [
            "Vocabulary size: 30522\n"
          ]
        }
      ]
    },
    {
      "cell_type": "markdown",
      "source": [
        "Mount the google drive and load the trained model."
      ],
      "metadata": {
        "id": "75w2Q9oq4OlY"
      }
    },
    {
      "cell_type": "code",
      "source": [
        "from google.colab import drive\n",
        "drive.mount('/content/gdrive')\n",
        "\n",
        "lstm_model = models.load_model('/content/gdrive/My Drive/LSTM_recipe_generator.hd5')\n",
        "lstm_model.summary()"
      ],
      "metadata": {
        "id": "6lA4PmdAQhEp",
        "colab": {
          "base_uri": "https://localhost:8080/"
        },
        "outputId": "207bf5a0-c211-4af4-8589-a328be518159"
      },
      "execution_count": 5,
      "outputs": [
        {
          "output_type": "stream",
          "name": "stdout",
          "text": [
            "Drive already mounted at /content/gdrive; to attempt to forcibly remount, call drive.mount(\"/content/gdrive\", force_remount=True).\n",
            "Model: \"LSTM_next_word_predictor\"\n",
            "_________________________________________________________________\n",
            " Layer (type)                Output Shape              Param #   \n",
            "=================================================================\n",
            " text_embedding (Embedding)  (None, None, 512)         15627264  \n",
            "                                                                 \n",
            " LSTM_cell (LSTM)            (None, None, 512)         2099200   \n",
            "                                                                 \n",
            " softmax (Dense)             (None, None, 30522)       15657786  \n",
            "                                                                 \n",
            "=================================================================\n",
            "Total params: 33,384,250\n",
            "Trainable params: 33,384,250\n",
            "Non-trainable params: 0\n",
            "_________________________________________________________________\n"
          ]
        }
      ]
    },
    {
      "cell_type": "markdown",
      "source": [
        "Define a function to generate new texts."
      ],
      "metadata": {
        "id": "RgpmA6Uu4Z6g"
      }
    },
    {
      "cell_type": "code",
      "source": [
        "def sample_from(probs, temp):\n",
        "    probs = probs ** (1 / temp)\n",
        "    probs = probs / np.sum(probs)\n",
        "    return np.random.choice(len(probs), p=probs), probs\n",
        "\n",
        "\n",
        "def gen_text(prompt, temp=0.1, lang='en'):\n",
        "    tokenized_text = tokenizer(prompt)\n",
        "    input_ids = np.array(tokenized_text['input_ids'])[:-1]\n",
        "\n",
        "    for i in range(256):\n",
        "        if i % 100 == 0 and i > 0:\n",
        "            print('')\n",
        "        probs = lstm_model.predict(np.array([input_ids]), verbose=0)[0][-1]\n",
        "        next_token, _ = sample_from(probs, temp)\n",
        "        next_word = tokenizer.convert_ids_to_tokens([next_token])[0]\n",
        "        if next_word == '[SEP]':\n",
        "            break\n",
        "        print('.', end='')\n",
        "        input_ids = np.append(input_ids, next_token)\n",
        "\n",
        "    answer = tokenizer.convert_tokens_to_string(\n",
        "        tokenizer.convert_ids_to_tokens(input_ids[1:])\n",
        "    )\n",
        "    print('')\n",
        "\n",
        "    if lang == 'en':\n",
        "        return answer, answer\n",
        "\n",
        "    translator = Translator()\n",
        "    translated = translator.translate(answer, dest=lang);\n",
        "    return answer, translated.text"
      ],
      "metadata": {
        "id": "3VmZWWQle3IY"
      },
      "execution_count": 6,
      "outputs": []
    },
    {
      "cell_type": "markdown",
      "source": [
        "Define a function to show top 10 tokens following the input text."
      ],
      "metadata": {
        "id": "4nxRrgXL4nkg"
      }
    },
    {
      "cell_type": "code",
      "source": [
        "def top_k(prompt, temp=0.1):\n",
        "    tokenized_text = tokenizer(prompt)\n",
        "    input_ids = np.array(tokenized_text['input_ids'])[:-1]\n",
        "\n",
        "    probs = lstm_model.predict(np.array([input_ids]), verbose=0)[0][-1]\n",
        "    _, probs = sample_from(probs, temp)\n",
        "    probs = list(zip(probs, range(len(probs))))\n",
        "    top_k = sorted(probs, reverse=True)[:10]\n",
        "    probs = [p for p, _ in top_k]\n",
        "    labels = [tokenizer.convert_ids_to_tokens([token])[0] for _, token in top_k]\n",
        "\n",
        "    n = len(probs)\n",
        "    fig = plt.figure(figsize=(6, 2))\n",
        "    subplot = fig.add_subplot(1, 1, 1)\n",
        "    subplot.set_xticks(range(n))\n",
        "    subplot.set_xlim([-0.5, n - 0.5])\n",
        "    subplot.set_ylim([0, 1])\n",
        "    subplot.set_xticklabels(labels)\n",
        "    subplot.set_title(prompt, fontsize=11)\n",
        "    _ = subplot.bar(range(n), probs, align='center')"
      ],
      "metadata": {
        "id": "o-EEVWbchkQs"
      },
      "execution_count": 7,
      "outputs": []
    },
    {
      "cell_type": "markdown",
      "source": [
        "Generate some sample texts."
      ],
      "metadata": {
        "id": "CbYoFsgU4fnv"
      }
    },
    {
      "cell_type": "code",
      "source": [
        "gen_text('Recipe for beef', temp=1.0, lang='ja')"
      ],
      "metadata": {
        "colab": {
          "base_uri": "https://localhost:8080/"
        },
        "id": "PGCeZWRJfasd",
        "outputId": "5288af98-43aa-4a10-bed8-a709c291ce8f"
      },
      "execution_count": 8,
      "outputs": [
        {
          "output_type": "stream",
          "name": "stdout",
          "text": [
            "............................................................................\n"
          ]
        },
        {
          "output_type": "execute_result",
          "data": {
            "text/plain": [
              "(\"recipe for beef tempura : tear 12 soup from package ; transfer to a 10 - inch pressure cooker such oven ' s such as pressure by slow cooker. start the chicken breasts, stir in the onion, carrots, and garlic. season with italian seasoning salt and black pepper to taste and continue cooking until the chowder are fragrant, turning to 4 minutes. taste.\",\n",
              " 'ビーフテンプラのレシピ：パッケージから12スープを引き裂く。スロークッカーによる圧力など、オーブンのような10インチの圧力鍋に移動します。鶏の胸肉を始め、タマネギ、ニンジン、ニンニクをかき混ぜます。イタリアの調味料の塩と黒胡pepperで味付けし、味が香ばしくなるまで調理を続け、4分間になります。味。')"
            ]
          },
          "metadata": {},
          "execution_count": 8
        }
      ]
    },
    {
      "cell_type": "code",
      "source": [
        "gen_text('Recipe for beef', temp=0.5, lang='ja')"
      ],
      "metadata": {
        "colab": {
          "base_uri": "https://localhost:8080/"
        },
        "id": "3JpG6htN_35_",
        "outputId": "28fcd36f-1d59-49d4-c5f3-27f3c5ad065f"
      },
      "execution_count": 9,
      "outputs": [
        {
          "output_type": "stream",
          "name": "stdout",
          "text": [
            "....................................................................................................\n",
            "...........................................\n"
          ]
        },
        {
          "output_type": "execute_result",
          "data": {
            "text/plain": [
              "('recipe for beef and cranberry cheesecake : preheat oven to 350 degrees f ( 175 degrees c ). place a 9 - inch pie pan with parchment paper. combine flour, baking powder, baking soda, and salt in a separate bowl. combine egg white sugar, 1 / 4 cup white sugar, 1 / 2 cup sugar, and eggs in a large bowl. stir milk into the butter mixture. add flour mixture to the bowl and mix well. stir in chocolate chips. pour batter into prepared pan. bake in the preheated oven until a toothpick inserted into the center comes out clean, about 25 minutes. cool in pans for 10 minutes before removing to cool completely on a wire rack.',\n",
              " '牛肉とクランベリーチーズケーキのレシピ：オーブンを350度F（175度C）に予熱します。パーチメントペーパー付きの9インチパイパンを置きます。小麦粉、ベーキングパウダー、重曹、塩を別のボウルに混ぜます。卵白砂糖、1 /4カップの白砂糖、1 /2カップの砂糖、卵を大きなボウルに混ぜます。バターの混合物に牛乳をかき混ぜます。小麦粉の混合物をボウルに加え、よく混ぜます。チョコレートチップをかき混ぜます。準備されたパンにバッターを注ぎます。中央に挿入されたつまようじがきれいになるまで、予熱したオーブンで焼きます。約25分。ワイヤーラックで完全に冷却するために取り外す前に、10分間フライパンで冷却します。')"
            ]
          },
          "metadata": {},
          "execution_count": 9
        }
      ]
    },
    {
      "cell_type": "code",
      "source": [
        "gen_text('Recipe for beef', temp=0.1, lang='ja')"
      ],
      "metadata": {
        "colab": {
          "base_uri": "https://localhost:8080/"
        },
        "id": "kgf69oNbfJ_k",
        "outputId": "f2b73de0-75ef-40c7-ab0a-fc6a697cc868"
      },
      "execution_count": 10,
      "outputs": [
        {
          "output_type": "stream",
          "name": "stdout",
          "text": [
            ".........................................................................................\n"
          ]
        },
        {
          "output_type": "execute_result",
          "data": {
            "text/plain": [
              "('recipe for beef and cheese soup : in a medium bowl, mix together the flour, salt, and pepper. in a large bowl, mix together the flour, salt, and pepper. in a large bowl, mix together the flour, salt, and pepper. stir in the flour, and stir until the mixture is smooth. pour the mixture into the prepared pan. bake in the preheated oven until the top is golden brown, about 30 minutes.',\n",
              " 'ビーフとチーズのスープのレシピ：中程度のボウルに、小麦粉、塩、コショウを混ぜます。大きなボウルに、小麦粉、塩、コショウを混ぜます。大きなボウルに、小麦粉、塩、コショウを混ぜます。小麦粉をかき混ぜ、混合物が滑らかになるまでかき混ぜます。混合物を準備したパンに注ぎます。上部が黄金色になるまで、約30分まで予熱したオーブンで焼きます。')"
            ]
          },
          "metadata": {},
          "execution_count": 10
        }
      ]
    },
    {
      "cell_type": "code",
      "source": [
        "gen_text('Recipe for apple', temp=1.0, lang='ja')"
      ],
      "metadata": {
        "colab": {
          "base_uri": "https://localhost:8080/"
        },
        "id": "uExAg-rwgW2W",
        "outputId": "46024afa-29ea-46eb-b478-80b06537ba9e"
      },
      "execution_count": 11,
      "outputs": [
        {
          "output_type": "stream",
          "name": "stdout",
          "text": [
            ".............................................................................................\n"
          ]
        },
        {
          "output_type": "execute_result",
          "data": {
            "text/plain": [
              "('recipe for apple sandwich : melt butter in the top of the bread. scatter the fish to cover the other baking sheet and let stand for cool until firm to the touch, 15 to 15 minutes. stir each pick into the quick - sized seasoning, flour, and pepper. whisk cocoa, sherry, and vinegar together in a bowl ; brush bowl with egg ; drizzle dressing over the olives. sprinkle with parmesan cheese, if desired.',\n",
              " 'アップルサンドイッチのレシピ：パンの上部にバターを溶かします。他の天板を覆うように魚を散らし、15〜15分間触るまで冷まします。それぞれのピックを素早くサイズの調味料、小麦粉、コショウにかき混ぜます。ココア、シェリー、酢をボウルに一緒に泡立てます。卵とブラシボウル。オリーブの上にドレッシングを霧雨。必要に応じて、パルメザンチーズを振りかけます。')"
            ]
          },
          "metadata": {},
          "execution_count": 11
        }
      ]
    },
    {
      "cell_type": "code",
      "source": [
        "gen_text('Recipe for apple', temp=0.5, lang='ja')"
      ],
      "metadata": {
        "colab": {
          "base_uri": "https://localhost:8080/"
        },
        "id": "2c6KxQ9C_9Yx",
        "outputId": "212e3644-620b-479c-a430-d09329f7adf4"
      },
      "execution_count": 12,
      "outputs": [
        {
          "output_type": "stream",
          "name": "stdout",
          "text": [
            "....................................................................................................\n",
            ".........................\n"
          ]
        },
        {
          "output_type": "execute_result",
          "data": {
            "text/plain": [
              "('recipe for apple bread : preheat oven to 325 degrees f ( 165 degrees c ). grease and flour a 9x13 - inch baking pan. in a large bowl, combine sugar, brown sugar, butter, and vanilla. add eggs, eggs, milk, and vanilla. stir into the flour mixture ; stir into the applesauce and milk. mix well. stir in the flour mixture. drop by rounded teaspoonfuls onto ungreased cookie sheets. bake for 8 to 10 minutes in the preheated oven, or until a toothpick inserted into the center of a loaf comes out clean.',\n",
              " 'リンゴパンのレシピ：オーブンを325度F（165度C）に予熱します。グリースと小麦粉A 9x13 -インチベーキングパン。大きなボウルに、砂糖、黒糖、バター、バニラを混ぜます。卵、卵、牛乳、バニラを加えます。小麦粉の混合物をかき混ぜます。アップルソースと牛乳をかき混ぜます。よく混ぜます。小麦粉の混合物をかき混ぜます。丸みを帯びた小さじ1杯で、塗りつぶされていないクッキーシートに立ち寄ります。予熱したオーブンで8〜10分間、またはパンの中央に挿入されたつまようじがきれいになるまで焼きます。')"
            ]
          },
          "metadata": {},
          "execution_count": 12
        }
      ]
    },
    {
      "cell_type": "code",
      "source": [
        "gen_text('Recipe for apple', temp=0.1, lang='ja')"
      ],
      "metadata": {
        "colab": {
          "base_uri": "https://localhost:8080/"
        },
        "id": "4xSmfp7GgTPG",
        "outputId": "d9076840-776c-4a57-e6e2-2c75a92de04f"
      },
      "execution_count": 13,
      "outputs": [
        {
          "output_type": "stream",
          "name": "stdout",
          "text": [
            "....................................................................................................\n",
            "............................................\n"
          ]
        },
        {
          "output_type": "execute_result",
          "data": {
            "text/plain": [
              "('recipe for apple and cheesecake : preheat oven to 350 degrees f ( 175 degrees c ). grease a 9x13 - inch baking pan. in a medium bowl, mix together the flour, sugar, baking powder, and salt. mix in the flour, baking soda, and salt. mix in the flour, baking soda, and salt. stir in the vanilla. mix in the flour, baking soda, and salt. stir in the flour mixture. mix in the flour mixture. pour into the prepared pan. bake in the preheated oven until a toothpick inserted into the center comes out clean, about 45 minutes. cool in the pan for 10 minutes before removing to cool completely on a wire rack.',\n",
              " 'リンゴとチーズケーキのレシピ：オーブンを350度F（175度C）に予熱します。9x13 -インチベーキングパンをグリースします。中程度のボウルに、小麦粉、砂糖、ベーキングパウダー、塩を混ぜます。小麦粉、重曹、塩を混ぜます。小麦粉、重曹、塩を混ぜます。バニラをかき混ぜます。小麦粉、重曹、塩を混ぜます。小麦粉の混合物をかき混ぜます。小麦粉混合物を混ぜます。準備されたパンに注ぎます。中央に挿入されたつまようじがきれいになるまで、予熱したオーブンで焼きます。約45分です。ワイヤーラックで完全に冷却するために取り外す前に、パンで10分間冷却します。')"
            ]
          },
          "metadata": {},
          "execution_count": 13
        }
      ]
    },
    {
      "cell_type": "markdown",
      "source": [
        "Show top 10 tokens for a sample text."
      ],
      "metadata": {
        "id": "7E-rBDG14xqf"
      }
    },
    {
      "cell_type": "code",
      "source": [
        "top_k('recipe for chicken and dumplings : in a large pot, ', temp=1.0)"
      ],
      "metadata": {
        "colab": {
          "base_uri": "https://localhost:8080/",
          "height": 235
        },
        "id": "Nm9JhCL78THy",
        "outputId": "a06bd5d7-520b-4723-d829-e52dbdb4d026"
      },
      "execution_count": 14,
      "outputs": [
        {
          "output_type": "display_data",
          "data": {
            "text/plain": [
              "<Figure size 600x200 with 1 Axes>"
            ],
            "image/png": "[encoded data removed]"
          },
          "metadata": {}
        }
      ]
    },
    {
      "cell_type": "code",
      "source": [
        "top_k('recipe for chicken and dumplings : in a large pot, ', temp=0.5)"
      ],
      "metadata": {
        "colab": {
          "base_uri": "https://localhost:8080/",
          "height": 235
        },
        "id": "BfaASezjAD1L",
        "outputId": "9e0f7c71-d4fb-4247-9209-61eee538386f"
      },
      "execution_count": 15,
      "outputs": [
        {
          "output_type": "display_data",
          "data": {
            "text/plain": [
              "<Figure size 600x200 with 1 Axes>"
            ],
            "image/png": "[encoded data removed]"
          },
          "metadata": {}
        }
      ]
    },
    {
      "cell_type": "code",
      "source": [
        "top_k('recipe for chicken and dumplings : in a large pot, ', temp=0.1)"
      ],
      "metadata": {
        "colab": {
          "base_uri": "https://localhost:8080/",
          "height": 235
        },
        "id": "I7SQoRpomz-J",
        "outputId": "2bdb6d11-7d1b-4ca2-bf8e-0de6fe55737e"
      },
      "execution_count": 16,
      "outputs": [
        {
          "output_type": "display_data",
          "data": {
            "text/plain": [
              "<Figure size 600x200 with 1 Axes>"
            ],
            "image/png": "[encoded data removed]"
          },
          "metadata": {}
        }
      ]
    }
  ]
}