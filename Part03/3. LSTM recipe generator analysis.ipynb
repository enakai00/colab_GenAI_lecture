{
  "nbformat": 4,
  "nbformat_minor": 0,
  "metadata": {
    "colab": {
      "provenance": [],
      "gpuType": "T4"
    },
    "kernelspec": {
      "name": "python3",
      "display_name": "Python 3"
    },
    "language_info": {
      "name": "python"
    },
    "accelerator": "GPU"
  },
  "cells": [
    {
      "cell_type": "markdown",
      "source": [
        "# LSTM recipe generator training\n",
        "\n",
        "Note: This notebook is desinged to run with GPU runtime."
      ],
      "metadata": {
        "id": "QjOfqv963k7P"
      }
    },
    {
      "cell_type": "markdown",
      "source": [
        "Install Huggingface libraries to use the pretrained tokenizer."
      ],
      "metadata": {
        "id": "KrITPxe53o55"
      }
    },
    {
      "cell_type": "code",
      "execution_count": 1,
      "metadata": {
        "colab": {
          "base_uri": "https://localhost:8080/"
        },
        "id": "qR4fKhETJ_M7",
        "outputId": "edfb4900-db03-43b0-d1b3-4ed646fc0e04"
      },
      "outputs": [
        {
          "output_type": "stream",
          "name": "stdout",
          "text": [
            "  Installing build dependencies ... \u001b[?25l\u001b[?25hdone\n",
            "  Getting requirements to build wheel ... \u001b[?25l\u001b[?25hdone\n",
            "  Preparing metadata (pyproject.toml) ... \u001b[?25l\u001b[?25hdone\n"
          ]
        }
      ],
      "source": [
        "pip install -q git+https://github.com/huggingface/transformers.git datasets"
      ]
    },
    {
      "cell_type": "markdown",
      "source": [
        "Install Google Translate library to convert generated texts to other languages."
      ],
      "metadata": {
        "id": "q6-l1bak3wH6"
      }
    },
    {
      "cell_type": "code",
      "source": [
        "pip install -q googletrans==4.0.0-rc1"
      ],
      "metadata": {
        "id": "wEk9FWEyeIwb"
      },
      "execution_count": 2,
      "outputs": []
    },
    {
      "cell_type": "markdown",
      "source": [
        "Import modules and set random seeds."
      ],
      "metadata": {
        "id": "AAKxmXTn4Gt7"
      }
    },
    {
      "cell_type": "code",
      "source": [
        "import os, random\n",
        "os.environ['PYTHONHASHSEED'] = str(20230629)\n",
        "random.seed(20240329)\n",
        "\n",
        "import matplotlib.pyplot as plt\n",
        "import numpy as np\n",
        "from pandas import DataFrame\n",
        "\n",
        "import tensorflow as tf\n",
        "from tensorflow.keras import layers, models\n",
        "from googletrans import Translator\n",
        "\n",
        "np.random.seed(20230629)\n",
        "tf.random.set_seed(20230629)\n",
        "\n",
        "plt.rcParams.update({'font.size': 10})"
      ],
      "metadata": {
        "id": "nzi1HcNOKNQA"
      },
      "execution_count": 3,
      "outputs": []
    },
    {
      "cell_type": "markdown",
      "source": [
        "Download the pretrained tokenizer and check the vacabulary size."
      ],
      "metadata": {
        "id": "nEJ4U33q37Z4"
      }
    },
    {
      "cell_type": "code",
      "source": [
        "from transformers import AutoTokenizer, AutoConfig\n",
        "model_ckpt = 'bert-base-uncased'\n",
        "tokenizer = AutoTokenizer.from_pretrained(model_ckpt)\n",
        "VOCAB_SIZE = AutoConfig.from_pretrained(model_ckpt).vocab_size\n",
        "\n",
        "print('Vocabulary size: {}'.format(VOCAB_SIZE))"
      ],
      "metadata": {
        "colab": {
          "base_uri": "https://localhost:8080/"
        },
        "id": "3T7t29m5SE7o",
        "outputId": "b6a20d56-313d-4837-e469-827b9e40c273"
      },
      "execution_count": 4,
      "outputs": [
        {
          "output_type": "stream",
          "name": "stdout",
          "text": [
            "Vocabulary size: 30522\n"
          ]
        }
      ]
    },
    {
      "cell_type": "markdown",
      "source": [
        "Mount the google drive and load the trained model."
      ],
      "metadata": {
        "id": "75w2Q9oq4OlY"
      }
    },
    {
      "cell_type": "code",
      "source": [
        "from google.colab import drive\n",
        "drive.mount('/content/gdrive')\n",
        "\n",
        "lstm_model = models.load_model('/content/gdrive/My Drive/LSTM_recipe_generator.hd5')\n",
        "lstm_model.summary()"
      ],
      "metadata": {
        "id": "6lA4PmdAQhEp",
        "colab": {
          "base_uri": "https://localhost:8080/"
        },
        "outputId": "2720388a-60f7-4fe5-b6d6-e8c1163c0252"
      },
      "execution_count": 5,
      "outputs": [
        {
          "output_type": "stream",
          "name": "stdout",
          "text": [
            "Drive already mounted at /content/gdrive; to attempt to forcibly remount, call drive.mount(\"/content/gdrive\", force_remount=True).\n",
            "Model: \"LSTM_next_word_predictor\"\n",
            "_________________________________________________________________\n",
            " Layer (type)                Output Shape              Param #   \n",
            "=================================================================\n",
            " text_embedding (Embedding)  (None, None, 512)         15627264  \n",
            "                                                                 \n",
            " LSTM_cell (LSTM)            (None, None, 512)         2099200   \n",
            "                                                                 \n",
            " softmax (Dense)             (None, None, 30522)       15657786  \n",
            "                                                                 \n",
            "=================================================================\n",
            "Total params: 33,384,250\n",
            "Trainable params: 33,384,250\n",
            "Non-trainable params: 0\n",
            "_________________________________________________________________\n"
          ]
        }
      ]
    },
    {
      "cell_type": "markdown",
      "source": [
        "Define a function to generate new texts."
      ],
      "metadata": {
        "id": "RgpmA6Uu4Z6g"
      }
    },
    {
      "cell_type": "code",
      "source": [
        "def sample_from(probs, temp):\n",
        "    probs = probs ** (1 / temp)\n",
        "    probs = probs / np.sum(probs)\n",
        "    return np.random.choice(len(probs), p=probs), probs\n",
        "\n",
        "\n",
        "def gen_text(prompt, temp=0.1, lang='en'):\n",
        "    tokenized_text = tokenizer(prompt)\n",
        "    input_ids = np.array(tokenized_text['input_ids'])[:-1]\n",
        "\n",
        "    for i in range(256):\n",
        "        if i % 100 == 0 and i > 0:\n",
        "            print('')\n",
        "        probs = lstm_model.predict(np.array([input_ids]), verbose=0)[0][-1]\n",
        "        next_token, _ = sample_from(probs, temp)\n",
        "        next_word = tokenizer.convert_ids_to_tokens([next_token])[0]\n",
        "        if next_word == '[SEP]':\n",
        "            break\n",
        "        print('.', end='')\n",
        "        input_ids = np.append(input_ids, next_token)\n",
        "\n",
        "    answer = tokenizer.convert_tokens_to_string(\n",
        "        tokenizer.convert_ids_to_tokens(input_ids[1:])\n",
        "    )\n",
        "    print('')\n",
        "\n",
        "    if lang == 'en':\n",
        "        return answer, answer\n",
        "\n",
        "    translator = Translator()\n",
        "    translated = translator.translate(answer, dest=lang);\n",
        "    return answer, translated.text"
      ],
      "metadata": {
        "id": "3VmZWWQle3IY"
      },
      "execution_count": 6,
      "outputs": []
    },
    {
      "cell_type": "markdown",
      "source": [
        "Define a function to show top 10 tokens following the input text."
      ],
      "metadata": {
        "id": "4nxRrgXL4nkg"
      }
    },
    {
      "cell_type": "code",
      "source": [
        "def top_k(prompt, temp=0.1):\n",
        "    tokenized_text = tokenizer(prompt)\n",
        "    input_ids = np.array(tokenized_text['input_ids'])[:-1]\n",
        "\n",
        "    probs = lstm_model.predict(np.array([input_ids]), verbose=0)[0][-1]\n",
        "    _, probs = sample_from(probs, temp)\n",
        "    probs = list(zip(probs, range(len(probs))))\n",
        "    top_k = sorted(probs, reverse=True)[:10]\n",
        "    probs = [p for p, _ in top_k]\n",
        "    labels = [tokenizer.convert_ids_to_tokens([token])[0] for _, token in top_k]\n",
        "\n",
        "    n = len(probs)\n",
        "    fig = plt.figure(figsize=(6, 2))\n",
        "    subplot = fig.add_subplot(1, 1, 1)\n",
        "    subplot.set_xticks(range(n))\n",
        "    subplot.set_xlim([-0.5, n - 0.5])\n",
        "    subplot.set_ylim([0, 1])\n",
        "    subplot.set_xticklabels(labels)\n",
        "    subplot.set_title(prompt, fontsize=11)\n",
        "    _ = subplot.bar(range(n), probs, align='center')"
      ],
      "metadata": {
        "id": "o-EEVWbchkQs"
      },
      "execution_count": 7,
      "outputs": []
    },
    {
      "cell_type": "markdown",
      "source": [
        "Generate some sample texts."
      ],
      "metadata": {
        "id": "CbYoFsgU4fnv"
      }
    },
    {
      "cell_type": "code",
      "source": [
        "gen_text('Recipe for beef', temp=1.0, lang='ja')"
      ],
      "metadata": {
        "colab": {
          "base_uri": "https://localhost:8080/"
        },
        "id": "PGCeZWRJfasd",
        "outputId": "298a6ba5-5a73-4f5c-89e1-ae156f82ac22"
      },
      "execution_count": 8,
      "outputs": [
        {
          "output_type": "stream",
          "name": "stdout",
          "text": [
            "....................................................................................................\n",
            "................................................\n"
          ]
        },
        {
          "output_type": "execute_result",
          "data": {
            "text/plain": [
              "('recipe for beef bouillon appetizers : preheat oven to 350 degrees f ( 175 degrees c ). in a large bowl, mix together the nutmeg, salt and ground ginger. set aside. stir butter into the butter mixture, one at a time until thin. stir together the pumpkin pieces. mix in heavy cream. stir in place noodles, one at a time, and continue cooking until the mixture comes to a simmer. whisk together 1 tablespoon of the white wine, 1 teaspoon salt, and sugar into medium pot ; pour over pasta over the pork. cook 1 hour, stirring occasionally, until just comes. remove noodles from the sheet to 2 plates. serve hot, or black olives.',\n",
              " 'ビーフブイヨン前菜のレシピ：オーブンを350度F（175度C）に予熱します。大きなボウルに、ナツメグ、塩、挽いた生ingerを混ぜます。脇に置いてください。バターの混合物にバターをかき混ぜます。薄くなるまで一度に1つずつ。カボチャの部分を一緒にかき混ぜます。ヘビークリームを混ぜます。麺を一度に1つずつかき混ぜ、混合物が煮るまで調理を続けます。大さじ1杯の白ワイン、小さじ1杯、砂糖を中鍋に泡立てます。豚肉の上にパスタを注ぎます。時々かき混ぜながら、ちょうど来るまで1時間調理します。シートから2つのプレートに麺を取り外します。熱い、またはブラックオリーブを提供します。')"
            ]
          },
          "metadata": {},
          "execution_count": 8
        }
      ]
    },
    {
      "cell_type": "code",
      "source": [
        "gen_text('Recipe for beef', temp=0.5, lang='ja')"
      ],
      "metadata": {
        "colab": {
          "base_uri": "https://localhost:8080/"
        },
        "id": "3JpG6htN_35_",
        "outputId": "a8385d60-714b-48d9-deca-5e6f6229b683"
      },
      "execution_count": 9,
      "outputs": [
        {
          "output_type": "stream",
          "name": "stdout",
          "text": [
            "....................................................................................................\n",
            "....................................................................................................\n",
            "........................................................\n"
          ]
        },
        {
          "output_type": "execute_result",
          "data": {
            "text/plain": [
              "('recipe for beef and noodles soup : cook and stir the rice in a large pot over medium heat until the onions are soft. add the onion and garlic. cook and stir until the onion is soft and translucent, about 5 minutes. stir in the tomatoes, tomato paste, and red pepper flakes. cook and stir until the vegetables are tender, about 5 minutes. pour the sauce over the chicken, and stir in the tomato paste, and bring to a boil. reduce heat to medium - low, cover, and simmer for 20 minutes. stir in the tomato sauce, then remove from heat. pour the sauce over the chicken and vegetables. pour the soup into the pot. bring to a boil. reduce heat to low, cover, and simmer until the rice is tender, about 10 minutes. preheat oven to 350 degrees f ( 175 degrees c ). in a medium bowl, mix together the remaining flour, baking powder, salt and baking soda. mix in the flour and 1 / 2 teaspoon of the remaining 1 / 2 cup of butter. season with salt and pepper. stir in the remaining 1 / 2 cup of flour and 1 / 2 cup of the mixture until smooth. spread the mixture into the prepared baking dish. bake in the preheated oven',\n",
              " '牛肉と麺のレシピスープ：玉ねぎが柔らかくなるまで、中火で大きな鍋でご飯を調理してかき混ぜます。タマネギとニンニクを加えます。タマネギが柔らかく半透明になるまで、約5分間調理してかき混ぜます。トマト、トマトペースト、赤唐辛子のフレークをかき混ぜます。野菜が柔らかくなるまで約5分間調理してかき混ぜます。鶏肉の上にソースを注ぎ、トマトペーストをかき混ぜ、沸騰させます。熱を中程度に減らします - 低い、覆い、20分間煮ます。トマトソースをかき混ぜ、火から取り出します。鶏肉と野菜にソースを注ぎます。スープを鍋に注ぎます。沸騰させます。熱を低くし、覆い、ご飯が柔らかくなるまで約10分間煮ます。オーブンを350度F（175度C）に予熱します。中程度のボウルに、残りの小麦粉、ベーキングパウダー、塩、重曹を混ぜます。小麦粉と残りの1/2カップのバターを小さじ1/2で混ぜます。塩とコショウで味付けします。残りの1/2カップの小麦粉と1/2カップの混合物を滑らかになるまでかき混ぜます。混合物を準備したベーキング皿に広げます。予熱したオーブンで焼きます')"
            ]
          },
          "metadata": {},
          "execution_count": 9
        }
      ]
    },
    {
      "cell_type": "code",
      "source": [
        "gen_text('Recipe for beef', temp=0.1, lang='ja')"
      ],
      "metadata": {
        "colab": {
          "base_uri": "https://localhost:8080/"
        },
        "id": "kgf69oNbfJ_k",
        "outputId": "d5a9301b-3e78-46f7-b04c-1abf72bdc8a0"
      },
      "execution_count": 10,
      "outputs": [
        {
          "output_type": "stream",
          "name": "stdout",
          "text": [
            "....................................................................................................\n",
            "....................................................................................................\n",
            "........................................................\n"
          ]
        },
        {
          "output_type": "execute_result",
          "data": {
            "text/plain": [
              "('recipe for beef and cheese soup : in a large pot over medium heat, combine the ground beef, onion, and celery. cook and stir until the onion has softened and turned translucent, about 5 minutes. stir in the tomatoes, tomato paste, and red pepper flakes. cook and stir until the vegetables are tender, about 5 minutes. stir in the tomatoes, tomato paste, and red pepper flakes. bring to a boil, then reduce heat to medium - low, and simmer for 10 minutes. stir in the tomatoes, tomato sauce, and tomato paste. bring to a boil, and cook until the vegetables are tender, about 5 minutes. stir in the tomatoes, and cook until the vegetables are tender, about 5 minutes. stir in the tomatoes, and cook until the sauce is reduced by half, about 5 minutes. stir in the tomatoes, tomato sauce, and tomato paste. simmer for 10 minutes. stir in the tomatoes, tomato sauce, and red pepper flakes. simmer for 10 minutes. stir in the remaining 1 / 2 cup of the soup. cook and stir until the sauce is thickened, about 5 minutes. stir in the tomatoes, and cook until the sauce is reduced by half, about 5 minutes. stir in the tomatoes, and cook',\n",
              " '牛肉とチーズのスープのレシピ：中火の上の大きな鍋で、牛ひき肉、玉ねぎ、セロリを組み合わせます。タマネギが柔らかくなり、半透明になるまで約5分間調理してかき混ぜます。トマト、トマトペースト、赤唐辛子のフレークをかき混ぜます。野菜が柔らかくなるまで約5分間調理してかき混ぜます。トマト、トマトペースト、赤唐辛子のフレークをかき混ぜます。沸騰させてから、熱を中程度に低くし、10分間煮ます。トマト、トマトソース、トマトペーストをかき混ぜます。沸騰させ、野菜が柔らかくなるまで約5分間調理します。トマトをかき混ぜ、野菜が柔らかくなるまで約5分間調理します。トマトをかき混ぜ、ソースが半分、約5分間減るまで調理します。トマト、トマトソース、トマトペーストをかき混ぜます。10分間煮る。トマト、トマトソース、赤唐辛子のフレークをかき混ぜます。10分間煮る。残りの1/2カップのスープをかき混ぜます。ソースが濃くなるまで、約5分間調理してかき混ぜます。トマトをかき混ぜ、ソースが半分、約5分間減るまで調理します。トマトをかき混ぜて調理します')"
            ]
          },
          "metadata": {},
          "execution_count": 10
        }
      ]
    },
    {
      "cell_type": "code",
      "source": [
        "gen_text('Recipe for apple', temp=1.0, lang='ja')"
      ],
      "metadata": {
        "colab": {
          "base_uri": "https://localhost:8080/"
        },
        "id": "uExAg-rwgW2W",
        "outputId": "af4ff43c-56ed-499a-ae75-9e2ee3d71850"
      },
      "execution_count": 11,
      "outputs": [
        {
          "output_type": "stream",
          "name": "stdout",
          "text": [
            "....................................................................................................\n",
            "....................................................................................................\n",
            "........................\n"
          ]
        },
        {
          "output_type": "execute_result",
          "data": {
            "text/plain": [
              "('recipe for apple pound cake ii : preheat oven to 400 degrees f ( 200 degrees c ). bundt cake liners with cooking spray. cream butter together in a saucepan or wok over high heat, stirring frequently. drizzle with butter or butter mixture. cover with hot water and cook, stirring often, until butter is softened and turned golden brown, 5 to 10 minutes. transfer mixture to a saucepan and whisk together the milk, shallow powder, and salt ; continue to cook 10 minutes. add cream cheese and cook until mixture is browned to the bottom of the cookies and bottom well. continue cooking mixing on low speed until meat and dark brown on each side,. pour creamed mixture over and heat until butter is melted, 3 to 5 minutes. transfer hush puppies to a large baking pan and top with 1 / 4 cup cheese and let desired type. you will need on veies. bake in the preheated oven until biscuits are well set, 25 to 30 minutes more. cool bread before icing pan without separating. refrigerate if using each icing.',\n",
              " 'Apple Pound Cake IIのレシピ：オーブンを400度F（200度C）に予熱します。調理スプレー付きのバンドケーキライナー。鍋で一緒にバターをクリームしたり、強火で泣き、頻繁にかき混ぜます。バターまたはバターの混合物で霧雨。お湯で覆い、頻繁にかき混ぜながら、バターが柔らかくなり、金色の茶色になり、5〜10分間回します。混合物を鍋に移し、牛乳、浅い粉末、塩を一緒に泡立てます。10分調理し続けます。クリームチーズを加え、混合物がクッキーの底に焦げて底に茶色になるまで調理します。両側に肉と濃い茶色になるまで、低速で混合を調理し続けます。クリーム混合物を注ぎ、バターが溶けるまで3〜5分間加熱します。ハッシュパピーを大きなベーキングパンに移し、1/4カップのチーズをトップにし、希望のタイプを挙げます。Veiesに必要になります。ビスケットが適切に設定されるまで、予熱したオーブンで焼きます。分離せずにパンを氷に入れる前に涼しいパン。各アイシングを使用する場合は冷蔵します。')"
            ]
          },
          "metadata": {},
          "execution_count": 11
        }
      ]
    },
    {
      "cell_type": "code",
      "source": [
        "gen_text('Recipe for apple', temp=0.5, lang='ja')"
      ],
      "metadata": {
        "colab": {
          "base_uri": "https://localhost:8080/"
        },
        "id": "2c6KxQ9C_9Yx",
        "outputId": "31eb7c3d-3a50-4959-8e98-7732c01bac71"
      },
      "execution_count": 12,
      "outputs": [
        {
          "output_type": "stream",
          "name": "stdout",
          "text": [
            "....................................................................................................\n",
            "..........................................\n"
          ]
        },
        {
          "output_type": "execute_result",
          "data": {
            "text/plain": [
              "('recipe for apple crumb bars : preheat oven to 350 degrees f ( 175 degrees c ). grease and flour a 9x5 - inch loaf pan. sift the flour, sugar, baking soda, baking powder, salt, and baking soda together in a bowl. in a separate bowl, mix together the flour, baking soda, salt, cinnamon, nutmeg, and nutmeg. stir in the walnuts. drop by teaspoonfuls of batter onto the prepared baking sheets. bake in the preheated oven until a toothpick inserted into the center comes out clean, about 25 minutes. let cool in pan for 10 minutes. remove from the oven and let cool completely.',\n",
              " 'リンゴのパン粉バーのレシピ：オーブンを350度F（175度C）に予熱します。グリースと小麦粉A 9x5 -インチローフパン。小麦粉、砂糖、重曹、ベーキングパウダー、塩、重曹をボウルに入れます。別のボウルに、小麦粉、重曹、塩、シナモン、ナツメグ、ナツメグを混ぜます。クルミをかき混ぜます。準備したベーキングシートに小さじ1杯のバッターを落とします。中央に挿入されたつまようじがきれいになるまで、予熱したオーブンで焼きます。約25分。パンを10分間冷まします。オーブンから取り出し、完全に冷まします。')"
            ]
          },
          "metadata": {},
          "execution_count": 12
        }
      ]
    },
    {
      "cell_type": "code",
      "source": [
        "gen_text('Recipe for apple', temp=0.1, lang='ja')"
      ],
      "metadata": {
        "colab": {
          "base_uri": "https://localhost:8080/"
        },
        "id": "4xSmfp7GgTPG",
        "outputId": "b79041fd-fab7-45d5-d6c3-8eb7ae0ecef6"
      },
      "execution_count": 13,
      "outputs": [
        {
          "output_type": "stream",
          "name": "stdout",
          "text": [
            "....................................................................................................\n",
            ".....\n"
          ]
        },
        {
          "output_type": "execute_result",
          "data": {
            "text/plain": [
              "('recipe for apple and cheesecake : preheat oven to 350 degrees f ( 175 degrees c ). grease a 9x13 - inch baking dish. combine the flour, baking powder, salt, and baking soda in a bowl. stir in the eggs, and stir until well blended. pour the mixture into the prepared pan. bake in the preheated oven until a toothpick inserted into the center comes out clean, about 20 minutes. cool in the pan for 10 minutes before removing to cool completely on a wire rack.',\n",
              " 'リンゴとチーズケーキのレシピ：オーブンを350度F（175度C）に予熱します。9x13 -インチベーキング皿にグリースを塗ります。小麦粉、ベーキングパウダー、塩、重曹をボウルに混ぜます。卵をかき混ぜ、よく混ざるまでかき混ぜます。混合物を準備したパンに注ぎます。中央に挿入されたつまようじがきれいになるまで、予熱したオーブンで焼きます。約20分です。ワイヤーラックで完全に冷却するために取り外す前に、パンで10分間冷却します。')"
            ]
          },
          "metadata": {},
          "execution_count": 13
        }
      ]
    },
    {
      "cell_type": "markdown",
      "source": [
        "Show top 10 tokens for a sample text."
      ],
      "metadata": {
        "id": "7E-rBDG14xqf"
      }
    },
    {
      "cell_type": "code",
      "source": [
        "top_k('recipe for chicken and dumplings : in a large pot, ', temp=1.0)"
      ],
      "metadata": {
        "colab": {
          "base_uri": "https://localhost:8080/",
          "height": 235
        },
        "id": "Nm9JhCL78THy",
        "outputId": "9277f34e-f49b-4928-f51a-f1c7d289165e"
      },
      "execution_count": 14,
      "outputs": [
        {
          "output_type": "display_data",
          "data": {
            "text/plain": [
              "<Figure size 600x200 with 1 Axes>"
            ],
            "image/png": "[encoded data removed]"
          },
          "metadata": {}
        }
      ]
    },
    {
      "cell_type": "code",
      "source": [
        "top_k('recipe for chicken and dumplings : in a large pot, ', temp=0.5)"
      ],
      "metadata": {
        "colab": {
          "base_uri": "https://localhost:8080/",
          "height": 235
        },
        "id": "BfaASezjAD1L",
        "outputId": "a92b5ef1-bb38-4340-da42-f700694db7b6"
      },
      "execution_count": 15,
      "outputs": [
        {
          "output_type": "display_data",
          "data": {
            "text/plain": [
              "<Figure size 600x200 with 1 Axes>"
            ],
            "image/png": "[encoded data removed]"
          },
          "metadata": {}
        }
      ]
    },
    {
      "cell_type": "code",
      "source": [
        "top_k('recipe for chicken and dumplings : in a large pot, ', temp=0.1)"
      ],
      "metadata": {
        "colab": {
          "base_uri": "https://localhost:8080/",
          "height": 235
        },
        "id": "I7SQoRpomz-J",
        "outputId": "3bfe67ec-8f70-4019-c84d-fb81b83d2d20"
      },
      "execution_count": 16,
      "outputs": [
        {
          "output_type": "display_data",
          "data": {
            "text/plain": [
              "<Figure size 600x200 with 1 Axes>"
            ],
            "image/png": "[encoded data removed]"
          },
          "metadata": {}
        }
      ]
    }
  ]
}