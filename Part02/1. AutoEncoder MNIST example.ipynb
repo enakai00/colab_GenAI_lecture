{
  "nbformat": 4,
  "nbformat_minor": 0,
  "metadata": {
    "colab": {
      "provenance": []
    },
    "kernelspec": {
      "name": "python3",
      "display_name": "Python 3"
    }
  },
  "cells": [
    {
      "cell_type": "markdown",
      "metadata": {
        "id": "m_3F2cWjR5oY"
      },
      "source": [
        "# AutoEncoder MNIST example"
      ]
    },
    {
      "cell_type": "markdown",
      "metadata": {
        "id": "Xb2oPe61FRhE"
      },
      "source": [
        "Note: This notebook is desinged to run with CPU (no GPU) runtime."
      ]
    },
    {
      "cell_type": "markdown",
      "metadata": {
        "id": "ATCLp_uaFWKn"
      },
      "source": [
        "Import modules and set random seeds."
      ]
    },
    {
      "cell_type": "code",
      "metadata": {
        "id": "8uoZRr9eOmwG"
      },
      "source": [
        "import os, random\n",
        "os.environ['PYTHONHASHSEED'] = str(20230515)\n",
        "random.seed(20230515)\n",
        "\n",
        "import matplotlib.pyplot as plt\n",
        "import numpy as np\n",
        "from pandas import DataFrame\n",
        "\n",
        "import tensorflow as tf\n",
        "from tensorflow.keras import layers, models\n",
        "from tensorflow.keras.datasets import mnist\n",
        "\n",
        "np.random.seed(20190222)\n",
        "tf.random.set_seed(20190222)"
      ],
      "execution_count": 1,
      "outputs": []
    },
    {
      "cell_type": "markdown",
      "metadata": {
        "id": "qHRHP6VmFiBf"
      },
      "source": [
        "Download the MNIST dataset and store into NumPy arrays."
      ]
    },
    {
      "cell_type": "code",
      "metadata": {
        "id": "0ByKCdhESGpP"
      },
      "source": [
        "(train_images, train_labels), (test_images, test_labels) = mnist.load_data()\n",
        "train_images = train_images.reshape(\n",
        "                  (len(train_images), 784)).astype('float32') / 255\n",
        "test_images = test_images.reshape(\n",
        "                  (len(test_images), 784)).astype('float32') / 255\n",
        "train_labels = tf.keras.utils.to_categorical(train_labels, 10)\n",
        "test_labels = tf.keras.utils.to_categorical(test_labels, 10)"
      ],
      "execution_count": 2,
      "outputs": []
    },
    {
      "cell_type": "markdown",
      "metadata": {
        "id": "Yv8XFYsnFmhm"
      },
      "source": [
        "Define the AutoEncoder model for MNIST images."
      ]
    },
    {
      "cell_type": "code",
      "metadata": {
        "id": "qKvSYzl9SSkf",
        "outputId": "9598c71a-4954-4601-f8fe-6fe72ae32438",
        "colab": {
          "base_uri": "https://localhost:8080/"
        }
      },
      "source": [
        "model = models.Sequential(name='AutoEncoder')\n",
        "model.add(layers.Dense(256, activation='relu', input_shape=(784,)))\n",
        "model.add(layers.Dense(128, activation='relu'))\n",
        "model.add(layers.Dense(16, activation='relu'))\n",
        "model.add(layers.Dense(128, activation='relu'))\n",
        "model.add(layers.Dense(256, activation='relu'))\n",
        "model.add(layers.Dense(784, activation='sigmoid'))\n",
        "\n",
        "model.summary()"
      ],
      "execution_count": 3,
      "outputs": [
        {
          "output_type": "stream",
          "name": "stdout",
          "text": [
            "Model: \"AutoEncoder\"\n",
            "_________________________________________________________________\n",
            " Layer (type)                Output Shape              Param #   \n",
            "=================================================================\n",
            " dense (Dense)               (None, 256)               200960    \n",
            "                                                                 \n",
            " dense_1 (Dense)             (None, 128)               32896     \n",
            "                                                                 \n",
            " dense_2 (Dense)             (None, 16)                2064      \n",
            "                                                                 \n",
            " dense_3 (Dense)             (None, 128)               2176      \n",
            "                                                                 \n",
            " dense_4 (Dense)             (None, 256)               33024     \n",
            "                                                                 \n",
            " dense_5 (Dense)             (None, 784)               201488    \n",
            "                                                                 \n",
            "=================================================================\n",
            "Total params: 472,608\n",
            "Trainable params: 472,608\n",
            "Non-trainable params: 0\n",
            "_________________________________________________________________\n"
          ]
        }
      ]
    },
    {
      "cell_type": "markdown",
      "metadata": {
        "id": "CqEVpoE8GBnw"
      },
      "source": [
        "Compile the model using the Adam optimizer, and MSE as a loss function."
      ]
    },
    {
      "cell_type": "code",
      "metadata": {
        "id": "XEwdyyX5SeHg"
      },
      "source": [
        "model.compile(optimizer='adam', loss='mse')"
      ],
      "execution_count": 4,
      "outputs": []
    },
    {
      "cell_type": "markdown",
      "metadata": {
        "id": "OzHiZ02QGOr_"
      },
      "source": [
        "Define a function to show reconstructed images."
      ]
    },
    {
      "cell_type": "code",
      "metadata": {
        "id": "ysTYu_WoSiOc"
      },
      "source": [
        "def show_result():\n",
        "    results = model.predict(test_images[:8], verbose=0)\n",
        "\n",
        "    fig = plt.figure(figsize=(16, 2.7))\n",
        "    for i in range(8):\n",
        "      subplot = fig.add_subplot(2, 10, i+1)\n",
        "      subplot.set_xticks([])\n",
        "      subplot.set_yticks([])\n",
        "      subplot.imshow(test_images[i].reshape((28, 28)),\n",
        "                     vmin=0, vmax=1, cmap=plt.cm.gray_r)\n",
        "\n",
        "      subplot = fig.add_subplot(2, 10, i+11)\n",
        "      subplot.set_xticks([])\n",
        "      subplot.set_yticks([])\n",
        "      subplot.imshow(results[i].reshape((28, 28)),\n",
        "                     vmin=0, vmax=1, cmap=plt.cm.gray_r)"
      ],
      "execution_count": 5,
      "outputs": []
    },
    {
      "cell_type": "markdown",
      "metadata": {
        "id": "l93-rrTEGdcr"
      },
      "source": [
        "Train the model for a single epoch with 30,000 images, and show the intermediate result."
      ]
    },
    {
      "cell_type": "code",
      "metadata": {
        "id": "yR5SvOxtSu1v",
        "outputId": "3c68c8ab-c75c-4901-d432-9e2cc41796ab",
        "colab": {
          "base_uri": "https://localhost:8080/",
          "height": 262
        }
      },
      "source": [
        "history = model.fit(train_images[:30000], train_images[:30000],\n",
        "                    batch_size=256, epochs=1)\n",
        "show_result()"
      ],
      "execution_count": 6,
      "outputs": [
        {
          "output_type": "stream",
          "name": "stdout",
          "text": [
            "118/118 [==============================] - 7s 5ms/step - loss: 0.0773\n"
          ]
        },
        {
          "output_type": "display_data",
          "data": {
            "text/plain": [
              "<Figure size 1600x270 with 16 Axes>"
            ],
            "image/png": "[encoded data removed]"
          },
          "metadata": {}
        }
      ]
    },
    {
      "cell_type": "markdown",
      "metadata": {
        "id": "Cxju3n-DGt0p"
      },
      "source": [
        "Train the model for additional epochs, and show the final result."
      ]
    },
    {
      "cell_type": "code",
      "metadata": {
        "id": "33eI8EHqTHgo",
        "outputId": "d8c95fca-1301-4278-c06a-cf621b4a8026",
        "colab": {
          "base_uri": "https://localhost:8080/",
          "height": 464
        }
      },
      "source": [
        "history = model.fit(train_images, train_images,\n",
        "                    batch_size=256, epochs=6)\n",
        "show_result()"
      ],
      "execution_count": 7,
      "outputs": [
        {
          "output_type": "stream",
          "name": "stdout",
          "text": [
            "Epoch 1/6\n",
            "235/235 [==============================] - 1s 4ms/step - loss: 0.0375\n",
            "Epoch 2/6\n",
            "235/235 [==============================] - 1s 4ms/step - loss: 0.0269\n",
            "Epoch 3/6\n",
            "235/235 [==============================] - 1s 4ms/step - loss: 0.0234\n",
            "Epoch 4/6\n",
            "235/235 [==============================] - 1s 4ms/step - loss: 0.0217\n",
            "Epoch 5/6\n",
            "235/235 [==============================] - 1s 4ms/step - loss: 0.0206\n",
            "Epoch 6/6\n",
            "235/235 [==============================] - 1s 5ms/step - loss: 0.0197\n"
          ]
        },
        {
          "output_type": "display_data",
          "data": {
            "text/plain": [
              "<Figure size 1600x270 with 16 Axes>"
            ],
            "image/png": "[encoded data removed]"
          },
          "metadata": {}
        }
      ]
    },
    {
      "cell_type": "markdown",
      "metadata": {
        "id": "3reJyL0bG0KL"
      },
      "source": [
        "Define a Javascript function to create a drawing canvas."
      ]
    },
    {
      "cell_type": "code",
      "metadata": {
        "id": "s3MKTkF7Tjx0"
      },
      "source": [
        "input_form = \"\"\"\n",
        "<table>\n",
        "<td style=\"border-style: none;\">\n",
        "<div style=\"border: solid 2px #666; width: 143px; height: 144px;\">\n",
        "<canvas width=\"140\" height=\"140\"></canvas>\n",
        "</div></td>\n",
        "<td style=\"border-style: none;\">\n",
        "<button onclick=\"clear_value()\">Clear</button>\n",
        "</td>\n",
        "</table>\n",
        "\"\"\"\n",
        "\n",
        "javascript = \"\"\"\n",
        "<script type=\"text/Javascript\">\n",
        "    var pixels = [];\n",
        "    for (var i = 0; i < 28*28; i++) pixels[i] = 0;\n",
        "    var click = 0;\n",
        "\n",
        "    var canvas = document.querySelector(\"canvas\");\n",
        "    canvas.addEventListener(\"mousemove\", function(e) {\n",
        "        if (e.buttons == 1) {\n",
        "            click = 1;\n",
        "            canvas.getContext(\"2d\").fillStyle = \"rgb(0, 0, 0)\";\n",
        "            canvas.getContext(\"2d\").fillRect(e.offsetX, e.offsetY, 8, 8);\n",
        "            x = Math.floor(e.offsetY*0.2);\n",
        "            y = Math.floor(e.offsetX*0.2) + 1;\n",
        "            for (var dy = 0; dy < 2; dy++) {\n",
        "                for (var dx = 0; dx < 2; dx++) {\n",
        "                    if ((x + dx < 28) && (y + dy < 28)) {\n",
        "                        pixels[(y+dy)+(x+dx)*28] = 1;\n",
        "                    }\n",
        "                }\n",
        "            }\n",
        "        } else {\n",
        "            if (click == 1) set_value()\n",
        "            click = 0;\n",
        "        }\n",
        "    });\n",
        "\n",
        "    function set_value() {\n",
        "        var result = \"\";\n",
        "        for (var i = 0; i < 28*28; i++) result += pixels[i] + \",\";\n",
        "        google.colab.kernel.invokeFunction(\n",
        "                          'notebook.set_image', [result], {});\n",
        "    }\n",
        "\n",
        "    function clear_value() {\n",
        "        canvas.getContext(\"2d\").fillStyle = \"rgb(255, 255, 255)\";\n",
        "        canvas.getContext(\"2d\").fillRect(0, 0, 140, 140);\n",
        "        for (var i = 0; i < 28*28; i++) pixels[i] = 0;\n",
        "    }\n",
        "</script>\n",
        "\"\"\""
      ],
      "execution_count": 8,
      "outputs": []
    },
    {
      "cell_type": "markdown",
      "metadata": {
        "id": "ldxT9u0MHHFx"
      },
      "source": [
        "Show a drawing canvas."
      ]
    },
    {
      "cell_type": "code",
      "metadata": {
        "id": "1woQaR70TsRA",
        "outputId": "05031610-dda5-4bc0-938e-529f68ef82e6",
        "colab": {
          "base_uri": "https://localhost:8080/",
          "height": 171
        }
      },
      "source": [
        "from google.colab import output\n",
        "from IPython.display import HTML\n",
        "\n",
        "def set_image(result):\n",
        "    global image\n",
        "    image = np.array([float(x) for x in result.split(',')[:-1]])\n",
        "\n",
        "image = None\n",
        "output.register_callback('notebook.set_image', set_image)\n",
        "\n",
        "HTML(input_form + javascript)"
      ],
      "execution_count": 9,
      "outputs": [
        {
          "output_type": "execute_result",
          "data": {
            "text/plain": [
              "<IPython.core.display.HTML object>"
            ],
            "text/html": [
              "\n",
              "<table>\n",
              "<td style=\"border-style: none;\">\n",
              "<div style=\"border: solid 2px #666; width: 143px; height: 144px;\">\n",
              "<canvas width=\"140\" height=\"140\"></canvas>\n",
              "</div></td>\n",
              "<td style=\"border-style: none;\">\n",
              "<button onclick=\"clear_value()\">Clear</button>\n",
              "</td>\n",
              "</table>\n",
              "\n",
              "<script type=\"text/Javascript\">\n",
              "    var pixels = [];\n",
              "    for (var i = 0; i < 28*28; i++) pixels[i] = 0;\n",
              "    var click = 0;\n",
              "\n",
              "    var canvas = document.querySelector(\"canvas\");\n",
              "    canvas.addEventListener(\"mousemove\", function(e) {\n",
              "        if (e.buttons == 1) {\n",
              "            click = 1;\n",
              "            canvas.getContext(\"2d\").fillStyle = \"rgb(0, 0, 0)\";\n",
              "            canvas.getContext(\"2d\").fillRect(e.offsetX, e.offsetY, 8, 8);\n",
              "            x = Math.floor(e.offsetY*0.2);\n",
              "            y = Math.floor(e.offsetX*0.2) + 1;\n",
              "            for (var dy = 0; dy < 2; dy++) {\n",
              "                for (var dx = 0; dx < 2; dx++) {\n",
              "                    if ((x + dx < 28) && (y + dy < 28)) {\n",
              "                        pixels[(y+dy)+(x+dx)*28] = 1;\n",
              "                    }\n",
              "                }\n",
              "            }\n",
              "        } else {\n",
              "            if (click == 1) set_value()\n",
              "            click = 0;\n",
              "        }\n",
              "    });\n",
              "\n",
              "    function set_value() {\n",
              "        var result = \"\";\n",
              "        for (var i = 0; i < 28*28; i++) result += pixels[i] + \",\";\n",
              "        google.colab.kernel.invokeFunction(\n",
              "                          'notebook.set_image', [result], {});\n",
              "    }\n",
              "\n",
              "    function clear_value() {\n",
              "        canvas.getContext(\"2d\").fillStyle = \"rgb(255, 255, 255)\";\n",
              "        canvas.getContext(\"2d\").fillRect(0, 0, 140, 140);\n",
              "        for (var i = 0; i < 28*28; i++) pixels[i] = 0;\n",
              "    }\n",
              "</script>\n"
            ]
          },
          "metadata": {},
          "execution_count": 9
        }
      ]
    },
    {
      "cell_type": "markdown",
      "metadata": {
        "id": "mEQmyfkBHMEi"
      },
      "source": [
        "Show a resconstructed image from the handwritten example."
      ]
    },
    {
      "cell_type": "code",
      "metadata": {
        "id": "dkZgZqqST0dT",
        "outputId": "52055d9b-91fd-474b-c76e-91749026d741",
        "colab": {
          "base_uri": "https://localhost:8080/",
          "height": 231
        }
      },
      "source": [
        "results = model.predict(np.array([image]), verbose=0)\n",
        "\n",
        "fig = plt.figure(figsize=(5, 2.5))\n",
        "subplot = fig.add_subplot(1, 2, 1)\n",
        "subplot.set_xticks([])\n",
        "subplot.set_yticks([])\n",
        "subplot.imshow(np.array(image).reshape((28, 28)),\n",
        "               vmin=0, vmax=1, cmap=plt.cm.gray_r)\n",
        "subplot = fig.add_subplot(1, 2, 2)\n",
        "subplot.set_xticks([])\n",
        "subplot.set_yticks([])\n",
        "subplot.imshow(results[0].reshape((28, 28)),\n",
        "               vmin=0, vmax=1, cmap=plt.cm.gray_r)"
      ],
      "execution_count": 21,
      "outputs": [
        {
          "output_type": "execute_result",
          "data": {
            "text/plain": [
              "<matplotlib.image.AxesImage at 0x7ff8c8e7d120>"
            ]
          },
          "metadata": {},
          "execution_count": 21
        },
        {
          "output_type": "display_data",
          "data": {
            "text/plain": [
              "<Figure size 500x250 with 2 Axes>"
            ],
            "image/png": "[encoded data removed]"
          },
          "metadata": {}
        }
      ]
    }
  ]
}
