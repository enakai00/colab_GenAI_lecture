{
  "nbformat": 4,
  "nbformat_minor": 0,
  "metadata": {
    "colab": {
      "provenance": []
    },
    "kernelspec": {
      "name": "python3",
      "display_name": "Python 3"
    }
  },
  "cells": [
    {
      "cell_type": "markdown",
      "metadata": {
        "id": "NH-43cCiMiOx"
      },
      "source": [
        "# Static filter example"
      ]
    },
    {
      "cell_type": "markdown",
      "metadata": {
        "id": "n6uvAAr7M6Ol"
      },
      "source": [
        "Note: This notebook is designed to run with CPU (no GPU) runtime."
      ]
    },
    {
      "cell_type": "markdown",
      "metadata": {
        "id": "VJO3PPzqsq8d"
      },
      "source": [
        "Import modules."
      ]
    },
    {
      "cell_type": "code",
      "metadata": {
        "id": "gB5UUoAXIVmC"
      },
      "source": [
        "import numpy as np\n",
        "import matplotlib.pyplot as plt\n",
        "import pickle\n",
        "import tensorflow as tf\n",
        "from tensorflow.keras import layers, models"
      ],
      "execution_count": 1,
      "outputs": []
    },
    {
      "cell_type": "markdown",
      "metadata": {
        "id": "yz2h7_8St1wi"
      },
      "source": [
        "Download the ORENIST dataset and store into NumPy arrays."
      ]
    },
    {
      "cell_type": "code",
      "metadata": {
        "id": "ASgzWK5AjWvn",
        "outputId": "7b5f4069-fd2d-428f-8f40-3336ed461575",
        "colab": {
          "base_uri": "https://localhost:8080/"
        }
      },
      "source": [
        "base_repo = 'https://github.com/enakai00/colab_GenAI_lecture'\n",
        "!curl -LO {base_repo}/raw/main/Part01/ORENIST.data\n",
        "with open('ORENIST.data', 'rb') as file:\n",
        "    images, labels = pickle.load(file)\n",
        "images = np.array(images)\n",
        "labels = np.array(labels)"
      ],
      "execution_count": 2,
      "outputs": [
        {
          "output_type": "stream",
          "name": "stdout",
          "text": [
            "  % Total    % Received % Xferd  Average Speed   Time    Time     Time  Current\n",
            "                                 Dload  Upload   Total   Spent    Left  Speed\n",
            "  0     0    0     0    0     0      0      0 --:--:-- --:--:-- --:--:--     0\n",
            "100  553k  100  553k    0     0   367k      0  0:00:01  0:00:01 --:--:-- 1001k\n"
          ]
        }
      ]
    },
    {
      "cell_type": "markdown",
      "metadata": {
        "id": "qdQ0Tp2IvFy8"
      },
      "source": [
        "Show some examples."
      ]
    },
    {
      "cell_type": "code",
      "metadata": {
        "id": "tpL_niBTXggS",
        "outputId": "1d8c25d6-3927-4d4b-8c30-f2382c8d6263",
        "colab": {
          "base_uri": "https://localhost:8080/",
          "height": 187
        }
      },
      "source": [
        "fig = plt.figure(figsize=(5, 2))\n",
        "for i in range(10):\n",
        "    subplot = fig.add_subplot(2, 5, i+1)\n",
        "    subplot.set_xticks([])\n",
        "    subplot.set_yticks([])\n",
        "    subplot.imshow(images[i].reshape(28, 28), interpolation='none',\n",
        "                   vmin=0, vmax=1, cmap=plt.cm.gray_r)"
      ],
      "execution_count": 3,
      "outputs": [
        {
          "output_type": "display_data",
          "data": {
            "text/plain": [
              "<Figure size 500x200 with 10 Axes>"
            ],
            "image/png": "[encoded data removed]"
          },
          "metadata": {}
        }
      ]
    },
    {
      "cell_type": "markdown",
      "metadata": {
        "id": "fBltXsSRvZn0"
      },
      "source": [
        "Define fixed convolutional filters to extract vertical and horizontal edges."
      ]
    },
    {
      "cell_type": "code",
      "metadata": {
        "id": "BakcuKxdQoSL"
      },
      "source": [
        "def edge_filter(shape=None, dtype=None):\n",
        "    filter0 = np.array(\n",
        "            [[ 2, 1, 0,-1,-2],\n",
        "             [ 3, 2, 0,-2,-3],\n",
        "             [ 4, 3, 0,-3,-4],\n",
        "             [ 3, 2, 0,-2,-3],\n",
        "             [ 2, 1, 0,-1,-2]]) / 23.0\n",
        "    filter1 = np.array(\n",
        "            [[ 2, 3, 4, 3, 2],\n",
        "             [ 1, 2, 3, 2, 1],\n",
        "             [ 0, 0, 0, 0, 0],\n",
        "             [-1,-2,-3,-2,-1],\n",
        "             [-2,-3,-4,-3,-2]]) / 23.0\n",
        "\n",
        "    filter_array = np.zeros([5, 5, 1, 2])\n",
        "    filter_array[:, :, 0, 0] = filter0\n",
        "    filter_array[:, :, 0, 1] = filter1\n",
        "\n",
        "    return filter_array"
      ],
      "execution_count": 4,
      "outputs": []
    },
    {
      "cell_type": "markdown",
      "metadata": {
        "id": "TzFSX5dORuKA"
      },
      "source": [
        "Define a model to apply the fixed convolutional filters."
      ]
    },
    {
      "cell_type": "code",
      "metadata": {
        "id": "TZw9C2dLkSvG",
        "outputId": "78eb1968-aef7-430a-b5ce-2c9335c8c10a",
        "colab": {
          "base_uri": "https://localhost:8080/",
          "height": 193
        }
      },
      "source": [
        "model1 = models.Sequential(name='conv_filter_model1')\n",
        "model1.add(layers.Input(shape=(784,), name='input'))\n",
        "model1.add(layers.Reshape((28, 28, 1), name='reshape'))\n",
        "model1.add(layers.Conv2D(2, (5, 5), padding='same',\n",
        "                         kernel_initializer=edge_filter,\n",
        "                         bias_initializer=tf.constant_initializer(-0.2),\n",
        "                         activation='relu', name='conv_filter'))\n",
        "\n",
        "model1.summary()"
      ],
      "execution_count": 5,
      "outputs": [
        {
          "output_type": "display_data",
          "data": {
            "text/plain": [
              "\u001b[1mModel: \"conv_filter_model1\"\u001b[0m\n"
            ],
            "text/html": [
              "<pre style=\"white-space:pre;overflow-x:auto;line-height:normal;font-family:Menlo,'DejaVu Sans Mono',consolas,'Courier New',monospace\"><span style=\"font-weight: bold\">Model: \"conv_filter_model1\"</span>\n",
              "</pre>\n"
            ]
          },
          "metadata": {}
        },
        {
          "output_type": "display_data",
          "data": {
            "text/plain": [
              "┏━━━━━━━━━━━━━━━━━━━━━━━━━━━━━━━━━━━━━━┳━━━━━━━━━━━━━━━━━━━━━━━━━━━━━┳━━━━━━━━━━━━━━━━━┓\n",
              "┃\u001b[1m \u001b[0m\u001b[1mLayer (type)                        \u001b[0m\u001b[1m \u001b[0m┃\u001b[1m \u001b[0m\u001b[1mOutput Shape               \u001b[0m\u001b[1m \u001b[0m┃\u001b[1m \u001b[0m\u001b[1m        Param #\u001b[0m\u001b[1m \u001b[0m┃\n",
              "┡━━━━━━━━━━━━━━━━━━━━━━━━━━━━━━━━━━━━━━╇━━━━━━━━━━━━━━━━━━━━━━━━━━━━━╇━━━━━━━━━━━━━━━━━┩\n",
              "│ reshape (\u001b[38;5;33mReshape\u001b[0m)                    │ (\u001b[38;5;45mNone\u001b[0m, \u001b[38;5;34m28\u001b[0m, \u001b[38;5;34m28\u001b[0m, \u001b[38;5;34m1\u001b[0m)           │               \u001b[38;5;34m0\u001b[0m │\n",
              "├──────────────────────────────────────┼─────────────────────────────┼─────────────────┤\n",
              "│ conv_filter (\u001b[38;5;33mConv2D\u001b[0m)                 │ (\u001b[38;5;45mNone\u001b[0m, \u001b[38;5;34m28\u001b[0m, \u001b[38;5;34m28\u001b[0m, \u001b[38;5;34m2\u001b[0m)           │              \u001b[38;5;34m52\u001b[0m │\n",
              "└──────────────────────────────────────┴─────────────────────────────┴─────────────────┘\n"
            ],
            "text/html": [
              "<pre style=\"white-space:pre;overflow-x:auto;line-height:normal;font-family:Menlo,'DejaVu Sans Mono',consolas,'Courier New',monospace\">┏━━━━━━━━━━━━━━━━━━━━━━━━━━━━━━━━━━━━━━┳━━━━━━━━━━━━━━━━━━━━━━━━━━━━━┳━━━━━━━━━━━━━━━━━┓\n",
              "┃<span style=\"font-weight: bold\"> Layer (type)                         </span>┃<span style=\"font-weight: bold\"> Output Shape                </span>┃<span style=\"font-weight: bold\">         Param # </span>┃\n",
              "┡━━━━━━━━━━━━━━━━━━━━━━━━━━━━━━━━━━━━━━╇━━━━━━━━━━━━━━━━━━━━━━━━━━━━━╇━━━━━━━━━━━━━━━━━┩\n",
              "│ reshape (<span style=\"color: #0087ff; text-decoration-color: #0087ff\">Reshape</span>)                    │ (<span style=\"color: #00d7ff; text-decoration-color: #00d7ff\">None</span>, <span style=\"color: #00af00; text-decoration-color: #00af00\">28</span>, <span style=\"color: #00af00; text-decoration-color: #00af00\">28</span>, <span style=\"color: #00af00; text-decoration-color: #00af00\">1</span>)           │               <span style=\"color: #00af00; text-decoration-color: #00af00\">0</span> │\n",
              "├──────────────────────────────────────┼─────────────────────────────┼─────────────────┤\n",
              "│ conv_filter (<span style=\"color: #0087ff; text-decoration-color: #0087ff\">Conv2D</span>)                 │ (<span style=\"color: #00d7ff; text-decoration-color: #00d7ff\">None</span>, <span style=\"color: #00af00; text-decoration-color: #00af00\">28</span>, <span style=\"color: #00af00; text-decoration-color: #00af00\">28</span>, <span style=\"color: #00af00; text-decoration-color: #00af00\">2</span>)           │              <span style=\"color: #00af00; text-decoration-color: #00af00\">52</span> │\n",
              "└──────────────────────────────────────┴─────────────────────────────┴─────────────────┘\n",
              "</pre>\n"
            ]
          },
          "metadata": {}
        },
        {
          "output_type": "display_data",
          "data": {
            "text/plain": [
              "\u001b[1m Total params: \u001b[0m\u001b[38;5;34m52\u001b[0m (208.00 B)\n"
            ],
            "text/html": [
              "<pre style=\"white-space:pre;overflow-x:auto;line-height:normal;font-family:Menlo,'DejaVu Sans Mono',consolas,'Courier New',monospace\"><span style=\"font-weight: bold\"> Total params: </span><span style=\"color: #00af00; text-decoration-color: #00af00\">52</span> (208.00 B)\n",
              "</pre>\n"
            ]
          },
          "metadata": {}
        },
        {
          "output_type": "display_data",
          "data": {
            "text/plain": [
              "\u001b[1m Trainable params: \u001b[0m\u001b[38;5;34m52\u001b[0m (208.00 B)\n"
            ],
            "text/html": [
              "<pre style=\"white-space:pre;overflow-x:auto;line-height:normal;font-family:Menlo,'DejaVu Sans Mono',consolas,'Courier New',monospace\"><span style=\"font-weight: bold\"> Trainable params: </span><span style=\"color: #00af00; text-decoration-color: #00af00\">52</span> (208.00 B)\n",
              "</pre>\n"
            ]
          },
          "metadata": {}
        },
        {
          "output_type": "display_data",
          "data": {
            "text/plain": [
              "\u001b[1m Non-trainable params: \u001b[0m\u001b[38;5;34m0\u001b[0m (0.00 B)\n"
            ],
            "text/html": [
              "<pre style=\"white-space:pre;overflow-x:auto;line-height:normal;font-family:Menlo,'DejaVu Sans Mono',consolas,'Courier New',monospace\"><span style=\"font-weight: bold\"> Non-trainable params: </span><span style=\"color: #00af00; text-decoration-color: #00af00\">0</span> (0.00 B)\n",
              "</pre>\n"
            ]
          },
          "metadata": {}
        }
      ]
    },
    {
      "cell_type": "markdown",
      "source": [
        "Apply the convolutional filters to the ORENIST dataset."
      ],
      "metadata": {
        "id": "i0RYMSgTZiFV"
      }
    },
    {
      "cell_type": "code",
      "source": [
        "conv_output1 = model1.predict(images[:9], verbose=0)"
      ],
      "metadata": {
        "id": "klGOl1ssZcL2"
      },
      "execution_count": 6,
      "outputs": []
    },
    {
      "cell_type": "markdown",
      "source": [
        "Show images after applying the convolutional filters."
      ],
      "metadata": {
        "id": "5zjlC-_hZpsJ"
      }
    },
    {
      "cell_type": "code",
      "source": [
        "fig = plt.figure(figsize=(10, 3))\n",
        "filter_vals = edge_filter()\n",
        "v_max = np.max(conv_output1)\n",
        "\n",
        "for i in range(2):\n",
        "    subplot = fig.add_subplot(3, 10, 10*(i+1)+1)\n",
        "    subplot.set_xticks([])\n",
        "    subplot.set_yticks([])\n",
        "    subplot.imshow(filter_vals[:, :, 0, i],  interpolation='none',\n",
        "                   cmap=plt.cm.gray_r)\n",
        "\n",
        "for i in range(9):\n",
        "    subplot = fig.add_subplot(3, 10, i+2)\n",
        "    subplot.set_xticks([])\n",
        "    subplot.set_yticks([])\n",
        "    subplot.imshow(images[i].reshape((28, 28)), interpolation='none',\n",
        "                   vmin=0, vmax=1, cmap=plt.cm.gray_r)\n",
        "\n",
        "    subplot = fig.add_subplot(3, 10, 10+i+2)\n",
        "    subplot.set_xticks([])\n",
        "    subplot.set_yticks([])\n",
        "    subplot.imshow(conv_output1[i, :, :, 0], interpolation='none',\n",
        "                   vmin=0, vmax=v_max, cmap=plt.cm.gray_r)\n",
        "\n",
        "    subplot = fig.add_subplot(3, 10, 20+i+2)\n",
        "    subplot.set_xticks([])\n",
        "    subplot.set_yticks([])\n",
        "    subplot.imshow(conv_output1[i, :, :, 1], interpolation='none',\n",
        "                   vmin=0, vmax=v_max, cmap=plt.cm.gray_r)"
      ],
      "metadata": {
        "colab": {
          "base_uri": "https://localhost:8080/",
          "height": 265
        },
        "id": "6OEMSHv9ZLRV",
        "outputId": "1ae44516-04ab-45e7-e69e-bc047ec9f222"
      },
      "execution_count": 7,
      "outputs": [
        {
          "output_type": "display_data",
          "data": {
            "text/plain": [
              "<Figure size 1000x300 with 29 Axes>"
            ],
            "image/png": "[encoded data removed]"
          },
          "metadata": {}
        }
      ]
    },
    {
      "cell_type": "markdown",
      "source": [
        "Define a model to apply the fixed convolutional filters with  `strides=2`"
      ],
      "metadata": {
        "id": "XfMHenDIZwMY"
      }
    },
    {
      "cell_type": "code",
      "source": [
        "model2 = models.Sequential(name='conv_filter_model2')\n",
        "model2.add(layers.Input(shape=(784,), name='input'))\n",
        "model2.add(layers.Reshape((28, 28, 1), name='reshape'))\n",
        "model2.add(layers.Conv2D(2, (5, 5), padding='same', strides=2,\n",
        "                         kernel_initializer=edge_filter,\n",
        "                         bias_initializer=tf.constant_initializer(-0.2),\n",
        "                         activation='relu', name='conv_filter'))\n",
        "\n",
        "model2.summary()"
      ],
      "metadata": {
        "colab": {
          "base_uri": "https://localhost:8080/",
          "height": 193
        },
        "id": "vZY8mOM3arSc",
        "outputId": "357d0e84-d42a-4172-d28b-430361772e27"
      },
      "execution_count": 8,
      "outputs": [
        {
          "output_type": "display_data",
          "data": {
            "text/plain": [
              "\u001b[1mModel: \"conv_filter_model2\"\u001b[0m\n"
            ],
            "text/html": [
              "<pre style=\"white-space:pre;overflow-x:auto;line-height:normal;font-family:Menlo,'DejaVu Sans Mono',consolas,'Courier New',monospace\"><span style=\"font-weight: bold\">Model: \"conv_filter_model2\"</span>\n",
              "</pre>\n"
            ]
          },
          "metadata": {}
        },
        {
          "output_type": "display_data",
          "data": {
            "text/plain": [
              "┏━━━━━━━━━━━━━━━━━━━━━━━━━━━━━━━━━━━━━━┳━━━━━━━━━━━━━━━━━━━━━━━━━━━━━┳━━━━━━━━━━━━━━━━━┓\n",
              "┃\u001b[1m \u001b[0m\u001b[1mLayer (type)                        \u001b[0m\u001b[1m \u001b[0m┃\u001b[1m \u001b[0m\u001b[1mOutput Shape               \u001b[0m\u001b[1m \u001b[0m┃\u001b[1m \u001b[0m\u001b[1m        Param #\u001b[0m\u001b[1m \u001b[0m┃\n",
              "┡━━━━━━━━━━━━━━━━━━━━━━━━━━━━━━━━━━━━━━╇━━━━━━━━━━━━━━━━━━━━━━━━━━━━━╇━━━━━━━━━━━━━━━━━┩\n",
              "│ reshape (\u001b[38;5;33mReshape\u001b[0m)                    │ (\u001b[38;5;45mNone\u001b[0m, \u001b[38;5;34m28\u001b[0m, \u001b[38;5;34m28\u001b[0m, \u001b[38;5;34m1\u001b[0m)           │               \u001b[38;5;34m0\u001b[0m │\n",
              "├──────────────────────────────────────┼─────────────────────────────┼─────────────────┤\n",
              "│ conv_filter (\u001b[38;5;33mConv2D\u001b[0m)                 │ (\u001b[38;5;45mNone\u001b[0m, \u001b[38;5;34m14\u001b[0m, \u001b[38;5;34m14\u001b[0m, \u001b[38;5;34m2\u001b[0m)           │              \u001b[38;5;34m52\u001b[0m │\n",
              "└──────────────────────────────────────┴─────────────────────────────┴─────────────────┘\n"
            ],
            "text/html": [
              "<pre style=\"white-space:pre;overflow-x:auto;line-height:normal;font-family:Menlo,'DejaVu Sans Mono',consolas,'Courier New',monospace\">┏━━━━━━━━━━━━━━━━━━━━━━━━━━━━━━━━━━━━━━┳━━━━━━━━━━━━━━━━━━━━━━━━━━━━━┳━━━━━━━━━━━━━━━━━┓\n",
              "┃<span style=\"font-weight: bold\"> Layer (type)                         </span>┃<span style=\"font-weight: bold\"> Output Shape                </span>┃<span style=\"font-weight: bold\">         Param # </span>┃\n",
              "┡━━━━━━━━━━━━━━━━━━━━━━━━━━━━━━━━━━━━━━╇━━━━━━━━━━━━━━━━━━━━━━━━━━━━━╇━━━━━━━━━━━━━━━━━┩\n",
              "│ reshape (<span style=\"color: #0087ff; text-decoration-color: #0087ff\">Reshape</span>)                    │ (<span style=\"color: #00d7ff; text-decoration-color: #00d7ff\">None</span>, <span style=\"color: #00af00; text-decoration-color: #00af00\">28</span>, <span style=\"color: #00af00; text-decoration-color: #00af00\">28</span>, <span style=\"color: #00af00; text-decoration-color: #00af00\">1</span>)           │               <span style=\"color: #00af00; text-decoration-color: #00af00\">0</span> │\n",
              "├──────────────────────────────────────┼─────────────────────────────┼─────────────────┤\n",
              "│ conv_filter (<span style=\"color: #0087ff; text-decoration-color: #0087ff\">Conv2D</span>)                 │ (<span style=\"color: #00d7ff; text-decoration-color: #00d7ff\">None</span>, <span style=\"color: #00af00; text-decoration-color: #00af00\">14</span>, <span style=\"color: #00af00; text-decoration-color: #00af00\">14</span>, <span style=\"color: #00af00; text-decoration-color: #00af00\">2</span>)           │              <span style=\"color: #00af00; text-decoration-color: #00af00\">52</span> │\n",
              "└──────────────────────────────────────┴─────────────────────────────┴─────────────────┘\n",
              "</pre>\n"
            ]
          },
          "metadata": {}
        },
        {
          "output_type": "display_data",
          "data": {
            "text/plain": [
              "\u001b[1m Total params: \u001b[0m\u001b[38;5;34m52\u001b[0m (208.00 B)\n"
            ],
            "text/html": [
              "<pre style=\"white-space:pre;overflow-x:auto;line-height:normal;font-family:Menlo,'DejaVu Sans Mono',consolas,'Courier New',monospace\"><span style=\"font-weight: bold\"> Total params: </span><span style=\"color: #00af00; text-decoration-color: #00af00\">52</span> (208.00 B)\n",
              "</pre>\n"
            ]
          },
          "metadata": {}
        },
        {
          "output_type": "display_data",
          "data": {
            "text/plain": [
              "\u001b[1m Trainable params: \u001b[0m\u001b[38;5;34m52\u001b[0m (208.00 B)\n"
            ],
            "text/html": [
              "<pre style=\"white-space:pre;overflow-x:auto;line-height:normal;font-family:Menlo,'DejaVu Sans Mono',consolas,'Courier New',monospace\"><span style=\"font-weight: bold\"> Trainable params: </span><span style=\"color: #00af00; text-decoration-color: #00af00\">52</span> (208.00 B)\n",
              "</pre>\n"
            ]
          },
          "metadata": {}
        },
        {
          "output_type": "display_data",
          "data": {
            "text/plain": [
              "\u001b[1m Non-trainable params: \u001b[0m\u001b[38;5;34m0\u001b[0m (0.00 B)\n"
            ],
            "text/html": [
              "<pre style=\"white-space:pre;overflow-x:auto;line-height:normal;font-family:Menlo,'DejaVu Sans Mono',consolas,'Courier New',monospace\"><span style=\"font-weight: bold\"> Non-trainable params: </span><span style=\"color: #00af00; text-decoration-color: #00af00\">0</span> (0.00 B)\n",
              "</pre>\n"
            ]
          },
          "metadata": {}
        }
      ]
    },
    {
      "cell_type": "markdown",
      "metadata": {
        "id": "iuw7gKvESdcH"
      },
      "source": [
        "Apply the convolutional filters to the ORENIST dataset."
      ]
    },
    {
      "cell_type": "code",
      "metadata": {
        "id": "YodHmwNEnWjz"
      },
      "source": [
        "conv_output2 = model2.predict(images[:9], verbose=0)"
      ],
      "execution_count": 9,
      "outputs": []
    },
    {
      "cell_type": "markdown",
      "metadata": {
        "id": "7KQ2eWw8S-_s"
      },
      "source": [
        "Show images after applying the convolutional filters with `strides=2`"
      ]
    },
    {
      "cell_type": "code",
      "metadata": {
        "id": "WVIdMBfb16-e",
        "outputId": "ff9b7b08-82da-40d1-ad85-7d301edc846e",
        "colab": {
          "base_uri": "https://localhost:8080/",
          "height": 265
        }
      },
      "source": [
        "fig = plt.figure(figsize=(10, 3))\n",
        "filter_vals = edge_filter()\n",
        "v_max = np.max(conv_output2)\n",
        "\n",
        "for i in range(2):\n",
        "    subplot = fig.add_subplot(3, 10, 10*(i+1)+1)\n",
        "    subplot.set_xticks([])\n",
        "    subplot.set_yticks([])\n",
        "    subplot.imshow(filter_vals[:, :, 0, i],  interpolation='none',\n",
        "                   cmap=plt.cm.gray_r)\n",
        "\n",
        "for i in range(9):\n",
        "    subplot = fig.add_subplot(3, 10, i+2)\n",
        "    subplot.set_xticks([])\n",
        "    subplot.set_yticks([])\n",
        "    subplot.imshow(images[i].reshape((28, 28)), interpolation='none',\n",
        "                   vmin=0, vmax=1, cmap=plt.cm.gray_r)\n",
        "\n",
        "    subplot = fig.add_subplot(3, 10, 10+i+2)\n",
        "    subplot.set_xticks([])\n",
        "    subplot.set_yticks([])\n",
        "    subplot.imshow(conv_output2[i, :, :, 0], interpolation='none',\n",
        "                   vmin=0, vmax=v_max, cmap=plt.cm.gray_r)\n",
        "\n",
        "    subplot = fig.add_subplot(3, 10, 20+i+2)\n",
        "    subplot.set_xticks([])\n",
        "    subplot.set_yticks([])\n",
        "    subplot.imshow(conv_output2[i, :, :, 1], interpolation='none',\n",
        "                   vmin=0, vmax=v_max, cmap=plt.cm.gray_r)"
      ],
      "execution_count": 10,
      "outputs": [
        {
          "output_type": "display_data",
          "data": {
            "text/plain": [
              "<Figure size 1000x300 with 29 Axes>"
            ],
            "image/png": "[encoded data removed]"
          },
          "metadata": {}
        }
      ]
    }
  ]
}